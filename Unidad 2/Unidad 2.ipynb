{
 "cells": [
  {
   "cell_type": "markdown",
   "metadata": {},
   "source": [
    "## Estructuras y Organizacion de datos\n",
    "### Unidad 2\n",
    "#### Lourdes Anguiano Banderas"
   ]
  },
  {
   "cell_type": "markdown",
   "metadata": {},
   "source": [
    "## Manejo de listas en Python"
   ]
  },
  {
   "cell_type": "code",
   "execution_count": 1,
   "metadata": {},
   "outputs": [
    {
     "name": "stdout",
     "output_type": "stream",
     "text": [
      "['Furbol', 'Natacion', 'Tiro con arco', 'Box']\n"
     ]
    }
   ],
   "source": [
    "deportes = [\"Furbol\", \"Natacion\", \"Tiro con arco\", \"Box\"]\n",
    "print (deportes)"
   ]
  },
  {
   "cell_type": "code",
   "execution_count": 3,
   "metadata": {},
   "outputs": [
    {
     "name": "stdout",
     "output_type": "stream",
     "text": [
      "Natacion\n"
     ]
    }
   ],
   "source": [
    "# Acceder a una posicion enspecifica dentro de la lista\n",
    "print(deportes[1])"
   ]
  },
  {
   "cell_type": "code",
   "execution_count": 4,
   "metadata": {},
   "outputs": [
    {
     "name": "stdout",
     "output_type": "stream",
     "text": [
      "['Futbol Americano', 'Natacion', 'Tiro con arco', 'Box']\n"
     ]
    }
   ],
   "source": [
    "# Modificar un valor de la lista\n",
    "deportes[0] = \"Futbol Americano\"\n",
    "print(deportes)\n"
   ]
  },
  {
   "cell_type": "code",
   "execution_count": 7,
   "metadata": {},
   "outputs": [
    {
     "name": "stdout",
     "output_type": "stream",
     "text": [
      "la longitud de la lista de deportes es:  4\n"
     ]
    }
   ],
   "source": [
    "# La variable len es igual a longitud\n",
    "print(\"la longitud de la lista de deportes es: \", len(deportes))"
   ]
  },
  {
   "cell_type": "code",
   "execution_count": 8,
   "metadata": {},
   "outputs": [],
   "source": [
    "# del es una instruccion que funciona para eliminar elementos dentro de una lista\n",
    "\n",
    "del deportes[0]"
   ]
  },
  {
   "cell_type": "code",
   "execution_count": 9,
   "metadata": {},
   "outputs": [
    {
     "name": "stdout",
     "output_type": "stream",
     "text": [
      "['Natacion', 'Tiro con arco', 'Box']\n"
     ]
    }
   ],
   "source": [
    "print (deportes)"
   ]
  },
  {
   "cell_type": "code",
   "execution_count": 10,
   "metadata": {},
   "outputs": [
    {
     "name": "stdout",
     "output_type": "stream",
     "text": [
      "la longitud de la lista de deportes es:  3\n"
     ]
    }
   ],
   "source": [
    "print(\"la longitud de la lista de deportes es: \", len(deportes))"
   ]
  },
  {
   "cell_type": "code",
   "execution_count": 11,
   "metadata": {},
   "outputs": [
    {
     "name": "stdout",
     "output_type": "stream",
     "text": [
      "Box\n"
     ]
    }
   ],
   "source": [
    "# se pueden utilizar valores negativos en el indice\n",
    "# para hacer una lectura de los datos de derecha a izquierda\n",
    "# empezando desde -1 que es el ultimo valor de la lista\n",
    "\n",
    "print(deportes[-1])"
   ]
  },
  {
   "cell_type": "code",
   "execution_count": 12,
   "metadata": {},
   "outputs": [
    {
     "name": "stdout",
     "output_type": "stream",
     "text": [
      "Tiro con arco\n"
     ]
    }
   ],
   "source": [
    "print(deportes[-2])"
   ]
  },
  {
   "cell_type": "code",
   "execution_count": 13,
   "metadata": {},
   "outputs": [
    {
     "name": "stdout",
     "output_type": "stream",
     "text": [
      "Natacion\n"
     ]
    }
   ],
   "source": [
    "print(deportes[-3])"
   ]
  },
  {
   "cell_type": "code",
   "execution_count": 14,
   "metadata": {},
   "outputs": [
    {
     "ename": "IndexError",
     "evalue": "list index out of range",
     "output_type": "error",
     "traceback": [
      "\u001b[1;31m---------------------------------------------------------------------------\u001b[0m",
      "\u001b[1;31mIndexError\u001b[0m                                Traceback (most recent call last)",
      "\u001b[1;32m<ipython-input-14-29884838a8df>\u001b[0m in \u001b[0;36m<module>\u001b[1;34m\u001b[0m\n\u001b[0;32m      1\u001b[0m \u001b[1;31m# No es posible acceder a un elemento de la lista con un indice que NO existe\u001b[0m\u001b[1;33m\u001b[0m\u001b[1;33m\u001b[0m\u001b[1;33m\u001b[0m\u001b[0m\n\u001b[0;32m      2\u001b[0m \u001b[1;33m\u001b[0m\u001b[0m\n\u001b[1;32m----> 3\u001b[1;33m \u001b[0mprint\u001b[0m\u001b[1;33m(\u001b[0m\u001b[0mdeportes\u001b[0m\u001b[1;33m[\u001b[0m\u001b[1;33m-\u001b[0m\u001b[1;36m4\u001b[0m\u001b[1;33m]\u001b[0m\u001b[1;33m)\u001b[0m\u001b[1;33m\u001b[0m\u001b[1;33m\u001b[0m\u001b[0m\n\u001b[0m",
      "\u001b[1;31mIndexError\u001b[0m: list index out of range"
     ]
    }
   ],
   "source": [
    "# No es posible acceder a un elemento de la lista con un indice que NO existe\n",
    "\n",
    "print(deportes[-4])"
   ]
  },
  {
   "cell_type": "code",
   "execution_count": 19,
   "metadata": {},
   "outputs": [
    {
     "name": "stdout",
     "output_type": "stream",
     "text": [
      "ingresa el valor a sustituir: 8\n",
      "4\n",
      "[1, 2, 8, 4]\n"
     ]
    }
   ],
   "source": [
    "# Laboratorio en clase\n",
    "\n",
    "listaSombrero =[1, 2, 3, 4, 5]\n",
    "\n",
    "listaSombrero[2] = int(input(\"ingresa el valor a sustituir: \"))\n",
    "\n",
    "del listaSombrero[4]\n",
    "\n",
    "print(len(listaSombrero))\n",
    "print(listaSombrero)"
   ]
  },
  {
   "cell_type": "code",
   "execution_count": 20,
   "metadata": {},
   "outputs": [
    {
     "name": "stdout",
     "output_type": "stream",
     "text": [
      "['Natacion', 'Tiro con arco', 'Box']\n",
      "['Natacion', 'Tiro con arco', 'Box', 'Golf']\n"
     ]
    }
   ],
   "source": [
    "# Agregar elementos a la lista append e insert\n",
    "# APPEND lo agrega al final de la lista\n",
    "# Insert lo agrega en la posicion espesificada\n",
    "\n",
    "print(deportes)\n",
    "deportes.append(\"Golf\")\n",
    "print(deportes)"
   ]
  },
  {
   "cell_type": "code",
   "execution_count": 21,
   "metadata": {},
   "outputs": [
    {
     "name": "stdout",
     "output_type": "stream",
     "text": [
      "['Natacion', 'volletball', 'Tiro con arco', 'Box', 'Golf']\n"
     ]
    }
   ],
   "source": [
    "deportes.insert(1, \"volletball\")\n",
    "print(deportes)"
   ]
  },
  {
   "cell_type": "code",
   "execution_count": 22,
   "metadata": {},
   "outputs": [
    {
     "name": "stdout",
     "output_type": "stream",
     "text": [
      "['Basketball', 'Natacion', 'volletball', 'Tiro con arco', 'Box', 'Golf']\n"
     ]
    }
   ],
   "source": [
    "deportes.insert(0, \"Basketball\")\n",
    "print(deportes)"
   ]
  },
  {
   "cell_type": "code",
   "execution_count": 23,
   "metadata": {},
   "outputs": [
    {
     "name": "stdout",
     "output_type": "stream",
     "text": [
      "la longitud de la lista de deportes es:  6\n"
     ]
    }
   ],
   "source": [
    "print(\"la longitud de la lista de deportes es: \", len(deportes))"
   ]
  },
  {
   "cell_type": "code",
   "execution_count": 24,
   "metadata": {},
   "outputs": [
    {
     "name": "stdout",
     "output_type": "stream",
     "text": [
      "Basketball\n",
      "Natacion\n",
      "volletball\n",
      "Tiro con arco\n",
      "Box\n",
      "Golf\n"
     ]
    }
   ],
   "source": [
    "# Ciclo para recorrer los valores de una lista\n",
    "for x in deportes: \n",
    "    print(x)"
   ]
  },
  {
   "cell_type": "code",
   "execution_count": 25,
   "metadata": {},
   "outputs": [
    {
     "name": "stdout",
     "output_type": "stream",
     "text": [
      "Golf si esta en la lista de deportes\n"
     ]
    }
   ],
   "source": [
    "if \"Golf\" in deportes:\n",
    "    print(\"Golf si esta en la lista de deportes\")\n",
    "else:\n",
    "    print(\"Golf NO se encuentra en la lista de deportes\")"
   ]
  },
  {
   "cell_type": "code",
   "execution_count": 26,
   "metadata": {},
   "outputs": [
    {
     "name": "stdout",
     "output_type": "stream",
     "text": [
      "[]\n"
     ]
    }
   ],
   "source": [
    "listadenumeros = []\n",
    "print(listadenumeros)"
   ]
  },
  {
   "cell_type": "code",
   "execution_count": 29,
   "metadata": {},
   "outputs": [
    {
     "name": "stdout",
     "output_type": "stream",
     "text": [
      "[1, 2, 3, 4]\n"
     ]
    }
   ],
   "source": [
    "for i in range(1 ,5):\n",
    "    listadenumeros.append(i)\n",
    "print(listadenumeros)    \n",
    "    \n"
   ]
  },
  {
   "cell_type": "code",
   "execution_count": null,
   "metadata": {},
   "outputs": [],
   "source": [
    "mi lista - [10, 1, 8, 3, 5]\n",
    "suma = 0\n",
    "\n",
    "for i in range(len(milista))\n",
    "     suma-------------------------------------"
   ]
  },
  {
   "cell_type": "code",
   "execution_count": 1,
   "metadata": {},
   "outputs": [
    {
     "name": "stdout",
     "output_type": "stream",
     "text": [
      "1 1\n"
     ]
    }
   ],
   "source": [
    "variable1 = 1\n",
    "variable2 = 2\n",
    "\n",
    "variable2 = variable1\n",
    "variable1 = variable2\n",
    "print(variable1, variable2)"
   ]
  },
  {
   "cell_type": "code",
   "execution_count": 2,
   "metadata": {},
   "outputs": [
    {
     "name": "stdout",
     "output_type": "stream",
     "text": [
      "2 1\n"
     ]
    }
   ],
   "source": [
    "variable1 = 1\n",
    "variable2 = 2\n",
    "\n",
    "auxiliar = variable1\n",
    "variable1 = variable2\n",
    "variable2 = auxiliar\n",
    "print(variable1, variable2)"
   ]
  },
  {
   "cell_type": "code",
   "execution_count": 4,
   "metadata": {},
   "outputs": [
    {
     "name": "stdout",
     "output_type": "stream",
     "text": [
      "2 1\n"
     ]
    }
   ],
   "source": [
    "variable1 = 1\n",
    "variable2 = 2\n",
    "\n",
    "variable1, variable2 = variable2, variable1\n",
    "print(variable1, variable2)"
   ]
  },
  {
   "cell_type": "code",
   "execution_count": 9,
   "metadata": {},
   "outputs": [
    {
     "name": "stdout",
     "output_type": "stream",
     "text": [
      "[5, 3, 8, 1, 10]\n"
     ]
    }
   ],
   "source": [
    "miLista = [10, 1, 8, 3, 5]\n",
    "\n",
    "miLista[0], miLista[4] = miLista[4], miLista[0]\n",
    "miLista[1], miLista[3] = miLista[3], miLista[1]\n",
    "print(miLista)"
   ]
  },
  {
   "cell_type": "markdown",
   "metadata": {},
   "source": [
    "## Ordenamiento de listas por el metodo de la burbuja"
   ]
  },
  {
   "cell_type": "code",
   "execution_count": null,
   "metadata": {},
   "outputs": [],
   "source": [
    "miLista = [8, 10, 6, 2, 4] # lista para ordenar"
   ]
  },
  {
   "cell_type": "code",
   "execution_count": 10,
   "metadata": {},
   "outputs": [
    {
     "name": "stdout",
     "output_type": "stream",
     "text": [
      "[3, 5, 1, 8, 10]\n"
     ]
    }
   ],
   "source": [
    "for i in range(len(miLista) - 1): # necesitamos (5 - 1) comparaciones\n",
    "    if miLista[i] > miLista[i + 1]: # compara elementos adyacentes\n",
    "        miLista[i], miLista [i + 1] = miLista[i + 1], miLista[i] # si terminamos aquí significa que tenemos que intercambiar los elementos.\n",
    "print(miLista)"
   ]
  },
  {
   "cell_type": "code",
   "execution_count": 11,
   "metadata": {},
   "outputs": [
    {
     "name": "stdout",
     "output_type": "stream",
     "text": [
      "[2, 4, 6, 8, 10]\n"
     ]
    }
   ],
   "source": [
    "miLista = [8, 10, 6, 2, 4] # lista para ordenar\n",
    "swapped = True # lo necesitamos verdadero (True) para ingresar al bucle while\n",
    "\n",
    "while swapped:\n",
    "    swapped = False # no hay swaps hasta ahora\n",
    "    for i in range(len(miLista) - 1):\n",
    "        if miLista[i] > miLista[i + 1]:\n",
    "            swapped= True # ocurrió el intercambio!\n",
    "            miLista[i], miLista[i + 1] = miLista[i + 1], miLista[i]\n",
    "\n",
    "print(miLista)"
   ]
  },
  {
   "cell_type": "code",
   "execution_count": 12,
   "metadata": {},
   "outputs": [
    {
     "name": "stdout",
     "output_type": "stream",
     "text": [
      "¿Cuántos elementos deseas ordenar?:4\n",
      "Introduce un elemento de la lista:2\n",
      "Introduce un elemento de la lista:7\n",
      "Introduce un elemento de la lista:5\n",
      "Introduce un elemento de la lista:9\n",
      "\n",
      "Ordenado:\n",
      "[2.0, 5.0, 7.0, 9.0]\n"
     ]
    }
   ],
   "source": [
    "miLista = []\n",
    "swapped = True\n",
    "num = int (input(\"¿Cuántos elementos deseas ordenar?:\"))\n",
    "\n",
    "for i in range(num):\n",
    "    val = float(input(\"Introduce un elemento de la lista:\"))\n",
    "    miLista.append(val)\n",
    "\n",
    "while swapped:\n",
    "    swapped = False\n",
    "    for i in range(len(miLista) - 1):\n",
    "        if miLista[i] > miLista[i + 1]:\n",
    "            swapped = True\n",
    "            miLista[i], miLista[i + 1] = miLista[i + 1], miLista[i]\n",
    "\n",
    "print(\"\\nOrdenado:\")\n",
    "print(miLista)"
   ]
  },
  {
   "cell_type": "code",
   "execution_count": 13,
   "metadata": {},
   "outputs": [
    {
     "name": "stdout",
     "output_type": "stream",
     "text": [
      "[5, 3, 1, 2, 4]\n",
      "[1, 2, 3, 4, 5]\n"
     ]
    }
   ],
   "source": [
    "# Ordenar automáticamente una lista con el método SORT\n",
    "lst = [5, 3, 1, 2, 4]\n",
    "print(lst)\n",
    "\n",
    "lst.sort ()\n",
    "print(lst) # salida: [1, 2, 3, 4, 5]"
   ]
  },
  {
   "cell_type": "code",
   "execution_count": 14,
   "metadata": {},
   "outputs": [
    {
     "name": "stdout",
     "output_type": "stream",
     "text": [
      "[5, 3, 1, 2, 4]\n",
      "[4, 2, 1, 3, 5]\n"
     ]
    }
   ],
   "source": [
    "# Revertir la lista con el método REVERSE\n",
    "lst = [5, 3, 1, 2, 4]\n",
    "print(lst)\n",
    "    \n",
    "lst.reverse()\n",
    "print (lst) # salida: [4, 2, 1, 3, 5]"
   ]
  },
  {
   "cell_type": "code",
   "execution_count": 15,
   "metadata": {},
   "outputs": [
    {
     "name": "stdout",
     "output_type": "stream",
     "text": [
      "['A', 'D', 'F', 'Z']\n"
     ]
    }
   ],
   "source": [
    "# También es posible ordenar alfabeticamente\n",
    "lst = [\"D\", \"F\", \"A\", \"Z\"]\n",
    "lst.sort ()\n",
    "\n",
    "print(lst)"
   ]
  },
  {
   "cell_type": "code",
   "execution_count": 16,
   "metadata": {},
   "outputs": [
    {
     "name": "stdout",
     "output_type": "stream",
     "text": [
      "[1, 2, 3]\n"
     ]
    }
   ],
   "source": [
    "# Ordenar los numeros almacenados en variables a, b, c\n",
    "a = 3\n",
    "b = 1\n",
    "c = 2\n",
    "\n",
    "lst = [a, c, b]\n",
    "lst.sort ()\n",
    "\n",
    "print(lst)"
   ]
  },
  {
   "cell_type": "code",
   "execution_count": 17,
   "metadata": {},
   "outputs": [
    {
     "name": "stdout",
     "output_type": "stream",
     "text": [
      "['', 'C', 'B', 'A']\n"
     ]
    }
   ],
   "source": [
    "# Revertir la lista\n",
    "a = \"A\"\n",
    "b = \"B\"\n",
    "c = \"C\"\n",
    "d = \"\"\n",
    "\n",
    "lst = [a, b, c, d]\n",
    "lst.reverse ()\n",
    "\n",
    "print(lst)"
   ]
  },
  {
   "cell_type": "markdown",
   "metadata": {},
   "source": [
    "## OPERACIONES CON LISTAS"
   ]
  },
  {
   "cell_type": "code",
   "execution_count": 19,
   "metadata": {},
   "outputs": [
    {
     "name": "stdout",
     "output_type": "stream",
     "text": [
      "[2]\n"
     ]
    }
   ],
   "source": [
    "# No se crea un espacio en la memoria para lista2 en este caso, sino un apuntador que la enlaza a lista1\n",
    "# es por eso que si se modifica lista1, tambien se modifica lista2, siempre esta apuntando una a la otra\n",
    "lista1 = [1]\n",
    "lista2 = lista1\n",
    "lista1[0] = 2\n",
    "print(lista2)"
   ]
  },
  {
   "cell_type": "code",
   "execution_count": 4,
   "metadata": {},
   "outputs": [
    {
     "name": "stdout",
     "output_type": "stream",
     "text": [
      "1\n",
      "1\n",
      "1\n"
     ]
    }
   ],
   "source": [
    "lista1 = 1\n",
    "print (lista1)\n",
    "\n",
    "lista2 = lista1\n",
    "print (lista2)\n",
    "\n",
    "lista1 = 2\n",
    "print (lista2)"
   ]
  },
  {
   "cell_type": "code",
   "execution_count": 18,
   "metadata": {},
   "outputs": [
    {
     "name": "stdout",
     "output_type": "stream",
     "text": [
      "[1]\n",
      "[1]\n",
      "[5] [5]\n"
     ]
    }
   ],
   "source": [
    "\n",
    "# En efecto, los dos nombres (lista1 y lista2) identifican la misma ubicación en la memoria de la computadora\n",
    "# Modificar uno de ellos afecta al otro, y viceversa\n",
    "lista1 = [1]\n",
    "print(lista1)\n",
    "\n",
    "lista2 = lista1\n",
    "print(lista2)\n",
    "\n",
    "lista1[0] = 2\n",
    "lista2[0] = 5\n",
    "print(lista2, lista1)"
   ]
  },
  {
   "cell_type": "markdown",
   "metadata": {},
   "source": [
    "### Slicing (Rodajas)"
   ]
  },
  {
   "cell_type": "code",
   "execution_count": 8,
   "metadata": {},
   "outputs": [
    {
     "name": "stdout",
     "output_type": "stream",
     "text": [
      "[2, 2, 3, 4, 5]\n",
      "[1, 2, 3, 4, 5]\n"
     ]
    }
   ],
   "source": [
    "# sirve para evitar que una lista afecte a otra\n",
    "lista1 = [1, 2, 3, 4, 5]\n",
    "# copiar toda la lista\n",
    "lista2 = lista1 [:]\n",
    "lista1[0] = 2\n",
    "print(lista1)\n",
    "print(lista2)"
   ]
  },
  {
   "cell_type": "code",
   "execution_count": 10,
   "metadata": {},
   "outputs": [
    {
     "name": "stdout",
     "output_type": "stream",
     "text": [
      "[8, 6]\n"
     ]
    }
   ],
   "source": [
    "# copiando parte de la lista\n",
    "milista = [10, 8, 6, 4, 2]\n",
    "nuevalista = milista[1:3]\n",
    "print(nuevalista)"
   ]
  },
  {
   "cell_type": "code",
   "execution_count": 11,
   "metadata": {},
   "outputs": [
    {
     "name": "stdout",
     "output_type": "stream",
     "text": [
      "[8, 6, 4]\n"
     ]
    }
   ],
   "source": [
    "milista = [10, 8, 6, 4, 2]\n",
    "nuevalista = milista[1:-1]\n",
    "print(nuevalista)"
   ]
  },
  {
   "cell_type": "code",
   "execution_count": 12,
   "metadata": {},
   "outputs": [
    {
     "name": "stdout",
     "output_type": "stream",
     "text": [
      "[]\n"
     ]
    }
   ],
   "source": [
    "milista = [10, 8, 6, 4, 2]\n",
    "nuevalista = milista[-1:1]\n",
    "print(nuevalista)"
   ]
  },
  {
   "cell_type": "code",
   "execution_count": 20,
   "metadata": {},
   "outputs": [
    {
     "name": "stdout",
     "output_type": "stream",
     "text": [
      "[]\n"
     ]
    }
   ],
   "source": [
    "milista = [10, 8, 6, 4, 2]\n",
    "nuevalista = milista[-1:-3]\n",
    "print(nuevalista)"
   ]
  },
  {
   "cell_type": "code",
   "execution_count": 13,
   "metadata": {},
   "outputs": [
    {
     "name": "stdout",
     "output_type": "stream",
     "text": [
      "[6, 4]\n"
     ]
    }
   ],
   "source": [
    "milista = [10, 8, 6, 4, 2]\n",
    "nuevalista = milista[-3:-1]\n",
    "print(nuevalista)"
   ]
  },
  {
   "cell_type": "code",
   "execution_count": 14,
   "metadata": {},
   "outputs": [
    {
     "name": "stdout",
     "output_type": "stream",
     "text": [
      "[10, 8, 6]\n"
     ]
    }
   ],
   "source": [
    "milista = [10, 8, 6, 4, 2]\n",
    "nuevalista = milista[:3]\n",
    "print(nuevalista)"
   ]
  },
  {
   "cell_type": "code",
   "execution_count": 15,
   "metadata": {},
   "outputs": [
    {
     "name": "stdout",
     "output_type": "stream",
     "text": [
      "[4, 2]\n"
     ]
    }
   ],
   "source": [
    "milista = [10, 8, 6, 4, 2]\n",
    "nuevalista = milista[3:]\n",
    "print(nuevalista)"
   ]
  },
  {
   "cell_type": "markdown",
   "metadata": {},
   "source": [
    "### Borrar elementos de una lista"
   ]
  },
  {
   "cell_type": "code",
   "execution_count": 18,
   "metadata": {},
   "outputs": [
    {
     "name": "stdout",
     "output_type": "stream",
     "text": [
      "[10, 8, 6, 4, 2]\n",
      "[10, 8, 6, 4, 2]\n"
     ]
    }
   ],
   "source": [
    "miLista = [10, 8, 6, 4, 2]\n",
    "nuevaLista = miLista [:]\n",
    "print(miLista)\n",
    "print(nuevaLista)"
   ]
  },
  {
   "cell_type": "code",
   "execution_count": 19,
   "metadata": {},
   "outputs": [
    {
     "name": "stdout",
     "output_type": "stream",
     "text": [
      "[10, 4, 2]\n"
     ]
    }
   ],
   "source": [
    "del miLista[1:3]\n",
    "print(miLista)"
   ]
  },
  {
   "cell_type": "code",
   "execution_count": 21,
   "metadata": {},
   "outputs": [
    {
     "name": "stdout",
     "output_type": "stream",
     "text": [
      "[10, 8, 6, 4, 2]\n"
     ]
    }
   ],
   "source": [
    "print(nuevaLista)"
   ]
  },
  {
   "cell_type": "code",
   "execution_count": 22,
   "metadata": {},
   "outputs": [
    {
     "name": "stdout",
     "output_type": "stream",
     "text": [
      "[10, 8, 6, 4, 2]\n",
      "[]\n"
     ]
    }
   ],
   "source": [
    "print(nuevaLista)\n",
    "del nuevaLista[:] #borrar elementos\n",
    "print(nuevaLista)"
   ]
  },
  {
   "cell_type": "code",
   "execution_count": 24,
   "metadata": {},
   "outputs": [
    {
     "name": "stdout",
     "output_type": "stream",
     "text": [
      "[10, 8, 6, 4, 2]\n"
     ]
    },
    {
     "ename": "NameError",
     "evalue": "name 'nuevaLista' is not defined",
     "output_type": "error",
     "traceback": [
      "\u001b[1;31m---------------------------------------------------------------------------\u001b[0m",
      "\u001b[1;31mNameError\u001b[0m                                 Traceback (most recent call last)",
      "\u001b[1;32m<ipython-input-24-ee07d28b0097>\u001b[0m in \u001b[0;36m<module>\u001b[1;34m\u001b[0m\n\u001b[0;32m      2\u001b[0m \u001b[0mprint\u001b[0m\u001b[1;33m(\u001b[0m\u001b[0mnuevaLista\u001b[0m\u001b[1;33m)\u001b[0m\u001b[1;33m\u001b[0m\u001b[1;33m\u001b[0m\u001b[0m\n\u001b[0;32m      3\u001b[0m \u001b[1;32mdel\u001b[0m \u001b[0mnuevaLista\u001b[0m  \u001b[1;31m#borrar variable\u001b[0m\u001b[1;33m\u001b[0m\u001b[1;33m\u001b[0m\u001b[0m\n\u001b[1;32m----> 4\u001b[1;33m \u001b[0mprint\u001b[0m\u001b[1;33m(\u001b[0m\u001b[0mnuevaLista\u001b[0m\u001b[1;33m)\u001b[0m\u001b[1;33m\u001b[0m\u001b[1;33m\u001b[0m\u001b[0m\n\u001b[0m",
      "\u001b[1;31mNameError\u001b[0m: name 'nuevaLista' is not defined"
     ]
    }
   ],
   "source": [
    "nuevaLista = [10, 8, 6, 4, 2]\n",
    "print(nuevaLista)\n",
    "del nuevaLista  #borrar variable\n",
    "print(nuevaLista)"
   ]
  },
  {
   "cell_type": "code",
   "execution_count": 25,
   "metadata": {},
   "outputs": [
    {
     "name": "stdout",
     "output_type": "stream",
     "text": [
      "False\n",
      "True\n",
      "True\n"
     ]
    }
   ],
   "source": [
    "miLista = [0, 3, 12, 8, 2]\n",
    "\n",
    "print(5 in miLista)\n",
    "print(5 not in miLista)\n",
    "print(12 in miLista)"
   ]
  },
  {
   "cell_type": "markdown",
   "metadata": {},
   "source": [
    "## Ordenamiento de listas por el Método de la Burbuja"
   ]
  },
  {
   "cell_type": "code",
   "execution_count": null,
   "metadata": {},
   "outputs": [],
   "source": [
    "miLista = [8, 10, 6, 2, 4] # lista para ordenar"
   ]
  },
  {
   "cell_type": "code",
   "execution_count": 3,
   "metadata": {},
   "outputs": [
    {
     "name": "stdout",
     "output_type": "stream",
     "text": [
      "[2, 4, 6, 8, 10]\n"
     ]
    }
   ],
   "source": [
    "for i in range(len(miLista) - 1):  # se necesita (5 - 1) comparaciones\n",
    "    if miLista[i] > miLista[i + 1]:  #compara elementos adyacentes\n",
    "        miLista[i], miLista [i + 1] = miLista[i + 1], miLista[i]  #si terminamos aquí significa que tenemos que intercambiar los elementos.\n",
    "print(miLista)"
   ]
  },
  {
   "cell_type": "code",
   "execution_count": 2,
   "metadata": {},
   "outputs": [
    {
     "name": "stdout",
     "output_type": "stream",
     "text": [
      "[2, 4, 6, 8, 10]\n"
     ]
    }
   ],
   "source": [
    "miLista = [8, 10, 6, 2, 4] # lista para ordenar\n",
    "swapped = True # se necesita verdadero (True) para ingresar al bucle while\n",
    "\n",
    "while swapped:\n",
    "    swapped = False # no hay swaps de momento\n",
    "    for i in range(len(miLista) - 1):\n",
    "        if miLista[i] > miLista[i + 1]:\n",
    "            swapped= True # ocurrió el intercambio!\n",
    "            miLista[i], miLista[i + 1] = miLista[i + 1], miLista[i]\n",
    "\n",
    "print(miLista)"
   ]
  },
  {
   "cell_type": "code",
   "execution_count": 4,
   "metadata": {},
   "outputs": [
    {
     "name": "stdout",
     "output_type": "stream",
     "text": [
      "¿Cuántos elementos deseas ordenar?:4\n",
      "Introduce un elemento de la lista:3\n",
      "Introduce un elemento de la lista:7\n",
      "Introduce un elemento de la lista:8\n",
      "Introduce un elemento de la lista:2\n",
      "\n",
      "Ordenado:\n",
      "[2.0, 3.0, 7.0, 8.0]\n"
     ]
    }
   ],
   "source": [
    "miLista = []\n",
    "swapped = True\n",
    "num = int (input(\"¿Cuántos elementos deseas ordenar?:\"))\n",
    "\n",
    "for i in range(num):\n",
    "    val = float(input(\"Introduce un elemento de la lista:\"))\n",
    "    miLista.append(val)\n",
    "\n",
    "while swapped:\n",
    "    swapped = False\n",
    "    for i in range(len(miLista) - 1):\n",
    "        if miLista[i] > miLista[i + 1]:\n",
    "            swapped = True\n",
    "            miLista[i], miLista[i + 1] = miLista[i + 1], miLista[i]\n",
    "\n",
    "print(\"\\nOrdenado:\")\n",
    "print(miLista)"
   ]
  },
  {
   "cell_type": "code",
   "execution_count": 5,
   "metadata": {},
   "outputs": [
    {
     "name": "stdout",
     "output_type": "stream",
     "text": [
      "[5, 3, 1, 2, 4]\n",
      "[1, 2, 3, 4, 5]\n"
     ]
    }
   ],
   "source": [
    "# Ordenar automáticamente una lista con el método SORT\n",
    "lst = [5, 3, 1, 2, 4]\n",
    "print(lst)\n",
    "\n",
    "lst.sort ()\n",
    "print(lst) # salida: [1, 2, 3, 4, 5]"
   ]
  },
  {
   "cell_type": "code",
   "execution_count": 6,
   "metadata": {},
   "outputs": [
    {
     "name": "stdout",
     "output_type": "stream",
     "text": [
      "[5, 3, 1, 2, 4]\n",
      "[4, 2, 1, 3, 5]\n"
     ]
    }
   ],
   "source": [
    "# Revertir la lista con el método REVERSE\n",
    "lst = [5, 3, 1, 2, 4]\n",
    "print(lst)\n",
    "    \n",
    "lst.reverse()\n",
    "print (lst) # salida: [4, 2, 1, 3, 5]"
   ]
  },
  {
   "cell_type": "code",
   "execution_count": 7,
   "metadata": {},
   "outputs": [
    {
     "name": "stdout",
     "output_type": "stream",
     "text": [
      "['A', 'D', 'F', 'Z']\n"
     ]
    }
   ],
   "source": [
    "# También es posible ordenar alfabeticamente\n",
    "lst = [\"D\", \"F\", \"A\", \"Z\"]\n",
    "lst.sort ()\n",
    "\n",
    "print(lst)"
   ]
  },
  {
   "cell_type": "code",
   "execution_count": 8,
   "metadata": {},
   "outputs": [
    {
     "name": "stdout",
     "output_type": "stream",
     "text": [
      "[1, 2, 3]\n"
     ]
    }
   ],
   "source": [
    "# Ordenar los numeros almacenados en variables a, b, c\n",
    "a = 3\n",
    "b = 1\n",
    "c = 2\n",
    "\n",
    "lst = [a, c, b]\n",
    "lst.sort ()\n",
    "\n",
    "print(lst)"
   ]
  },
  {
   "cell_type": "code",
   "execution_count": 9,
   "metadata": {},
   "outputs": [
    {
     "name": "stdout",
     "output_type": "stream",
     "text": [
      "['', 'C', 'B', 'A']\n"
     ]
    }
   ],
   "source": [
    "# Revertir la lista\n",
    "a = \"A\"\n",
    "b = \"B\"\n",
    "c = \"C\"\n",
    "d = \"\"\n",
    "\n",
    "lst = [a, b, c, d]\n",
    "lst.reverse ()\n",
    "\n",
    "print(lst)"
   ]
  },
  {
   "cell_type": "code",
   "execution_count": 10,
   "metadata": {},
   "outputs": [
    {
     "name": "stdout",
     "output_type": "stream",
     "text": [
      "17\n"
     ]
    }
   ],
   "source": [
    "# Buscar el elemento mayor en una lista\n",
    "miLista = [17, 3, 11, 5, 1, 9, 7, 15, 13]\n",
    "mayor = miLista[0]\n",
    "\n",
    "for i in range(1, len(miLista)):\n",
    "   if miLista [i]> mayor:\n",
    "        mayor = miLista[i]\n",
    "\n",
    "print(mayor)"
   ]
  },
  {
   "cell_type": "code",
   "execution_count": 11,
   "metadata": {},
   "outputs": [
    {
     "name": "stdout",
     "output_type": "stream",
     "text": [
      "Elemento encontrado en el índice 4\n"
     ]
    }
   ],
   "source": [
    "miLista = [1, 2, 3, 4, 5, 6, 7, 8, 9, 10]\n",
    "Encontrar = 5\n",
    "Encontrado = False\n",
    "\n",
    "for i in range(len(miLista)):\n",
    "    Encontrado = miLista[i] == Encontrar # Es como decir if miLista[i] Encontrado=True\n",
    "    if Encontrado:\n",
    "        break\n",
    "\n",
    "if Encontrado:\n",
    "    print(\"Elemento encontrado en el índice\", i)\n",
    "else:\n",
    "    print(\"ausente\")"
   ]
  },
  {
   "cell_type": "markdown",
   "metadata": {},
   "source": [
    "## Tablero de ajedrez con listas de Phyton"
   ]
  },
  {
   "cell_type": "code",
   "execution_count": 12,
   "metadata": {},
   "outputs": [
    {
     "name": "stdout",
     "output_type": "stream",
     "text": [
      "[[0, 0, 0, 0, 0, 0, 0, 0], [0, 0, 0, 0, 0, 0, 0, 0], [0, 0, 0, 0, 0, 0, 0, 0], [0, 0, 0, 0, 0, 0, 0, 0], [0, 0, 0, 0, 0, 0, 0, 0], [0, 0, 0, 0, 0, 0, 0, 0], [0, 0, 0, 0, 0, 0, 0, 0], [0, 0, 0, 0, 0, 0, 0, 0]]\n"
     ]
    }
   ],
   "source": [
    "tablero  = []\n",
    "EMPTY = 0\n",
    "for i in range(8):\n",
    "    fila = [EMPTY for i in range(8)]\n",
    "    tablero.append(fila)\n",
    "print(tablero)"
   ]
  },
  {
   "cell_type": "code",
   "execution_count": 13,
   "metadata": {},
   "outputs": [
    {
     "name": "stdout",
     "output_type": "stream",
     "text": [
      "[['TORRE', '-', '-', '-', '-', '-', '-', 'TORRE'], ['-', '-', '-', '-', '-', '-', '-', '-'], ['-', '-', '-', '-', '-', '-', '-', '-'], ['-', '-', '-', '-', '-', '-', '-', '-'], ['-', '-', '-', '-', '-', '-', '-', '-'], ['-', '-', '-', '-', '-', '-', '-', '-'], ['-', '-', '-', '-', '-', '-', '-', '-'], ['TORRE', '-', '-', '-', '-', '-', '-', 'TORRE']]\n"
     ]
    }
   ],
   "source": [
    "EMPTY = \"-\"\n",
    "TORRE = \"TORRE\"\n",
    "tablero = []\n",
    "\n",
    "for i in range(8):\n",
    "    fila = [EMPTY for i in range(8)]\n",
    "    tablero.append (fila)\n",
    "\n",
    "tablero[0][0] = TORRE\n",
    "tablero[0][7] = TORRE\n",
    "tablero[7][0] = TORRE\n",
    "tablero[7][7] = TORRE\n",
    "\n",
    "print(tablero)"
   ]
  },
  {
   "cell_type": "code",
   "execution_count": 14,
   "metadata": {},
   "outputs": [
    {
     "name": "stdout",
     "output_type": "stream",
     "text": [
      "[['TORRE', '-', '-', '-', '-', '-', '-', 'TORRE'], ['-', '-', '-', '-', '-', '-', '-', '-'], ['-', '-', '-', '-', '-', '-', '-', '-'], ['-', '-', '-', '-', '-', '-', '-', '-'], ['-', '-', 'CABALLO', '-', '-', '-', '-', '-'], ['-', '-', '-', '-', '-', '-', '-', '-'], ['-', '-', '-', '-', '-', '-', '-', '-'], ['TORRE', '-', '-', '-', '-', '-', '-', 'TORRE']]\n"
     ]
    }
   ],
   "source": [
    "tablero[4][2] = 'CABALLO'\n",
    "print(tablero)"
   ]
  },
  {
   "cell_type": "code",
   "execution_count": 15,
   "metadata": {},
   "outputs": [
    {
     "name": "stdout",
     "output_type": "stream",
     "text": [
      "[[0.0, 0.0, 0.0, 0.0, 0.0, 0.0, 0.0, 0.0, 0.0, 0.0, 0.0, 0.0, 0.0, 0.0, 0.0, 0.0, 0.0, 0.0, 0.0, 0.0, 0.0, 0.0, 0.0, 0.0], [0.0, 0.0, 0.0, 0.0, 0.0, 0.0, 0.0, 0.0, 0.0, 0.0, 0.0, 0.0, 0.0, 0.0, 0.0, 0.0, 0.0, 0.0, 0.0, 0.0, 0.0, 0.0, 0.0, 0.0], [0.0, 0.0, 0.0, 0.0, 0.0, 0.0, 0.0, 0.0, 0.0, 0.0, 0.0, 0.0, 0.0, 0.0, 0.0, 0.0, 0.0, 0.0, 0.0, 0.0, 0.0, 0.0, 0.0, 0.0], [0.0, 0.0, 0.0, 0.0, 0.0, 0.0, 0.0, 0.0, 0.0, 0.0, 0.0, 0.0, 0.0, 0.0, 0.0, 0.0, 0.0, 0.0, 0.0, 0.0, 0.0, 0.0, 0.0, 0.0], [0.0, 0.0, 0.0, 0.0, 0.0, 0.0, 0.0, 0.0, 0.0, 0.0, 0.0, 0.0, 0.0, 0.0, 0.0, 0.0, 0.0, 0.0, 0.0, 0.0, 0.0, 0.0, 0.0, 0.0], [0.0, 0.0, 0.0, 0.0, 0.0, 0.0, 0.0, 0.0, 0.0, 0.0, 0.0, 0.0, 0.0, 0.0, 0.0, 0.0, 0.0, 0.0, 0.0, 0.0, 0.0, 0.0, 0.0, 0.0], [0.0, 0.0, 0.0, 0.0, 0.0, 0.0, 0.0, 0.0, 0.0, 0.0, 0.0, 0.0, 0.0, 0.0, 0.0, 0.0, 0.0, 0.0, 0.0, 0.0, 0.0, 0.0, 0.0, 0.0], [0.0, 0.0, 0.0, 0.0, 0.0, 0.0, 0.0, 0.0, 0.0, 0.0, 0.0, 0.0, 0.0, 0.0, 0.0, 0.0, 0.0, 0.0, 0.0, 0.0, 0.0, 0.0, 0.0, 0.0], [0.0, 0.0, 0.0, 0.0, 0.0, 0.0, 0.0, 0.0, 0.0, 0.0, 0.0, 0.0, 0.0, 0.0, 0.0, 0.0, 0.0, 0.0, 0.0, 0.0, 0.0, 0.0, 0.0, 0.0], [0.0, 0.0, 0.0, 0.0, 0.0, 0.0, 0.0, 0.0, 0.0, 0.0, 0.0, 0.0, 0.0, 0.0, 0.0, 0.0, 0.0, 0.0, 0.0, 0.0, 0.0, 0.0, 0.0, 0.0], [0.0, 0.0, 0.0, 0.0, 0.0, 0.0, 0.0, 0.0, 0.0, 0.0, 0.0, 0.0, 0.0, 0.0, 0.0, 0.0, 0.0, 0.0, 0.0, 0.0, 0.0, 0.0, 0.0, 0.0], [0.0, 0.0, 0.0, 0.0, 0.0, 0.0, 0.0, 0.0, 0.0, 0.0, 0.0, 0.0, 0.0, 0.0, 0.0, 0.0, 0.0, 0.0, 0.0, 0.0, 0.0, 0.0, 0.0, 0.0], [0.0, 0.0, 0.0, 0.0, 0.0, 0.0, 0.0, 0.0, 0.0, 0.0, 0.0, 0.0, 0.0, 0.0, 0.0, 0.0, 0.0, 0.0, 0.0, 0.0, 0.0, 0.0, 0.0, 0.0], [0.0, 0.0, 0.0, 0.0, 0.0, 0.0, 0.0, 0.0, 0.0, 0.0, 0.0, 0.0, 0.0, 0.0, 0.0, 0.0, 0.0, 0.0, 0.0, 0.0, 0.0, 0.0, 0.0, 0.0], [0.0, 0.0, 0.0, 0.0, 0.0, 0.0, 0.0, 0.0, 0.0, 0.0, 0.0, 0.0, 0.0, 0.0, 0.0, 0.0, 0.0, 0.0, 0.0, 0.0, 0.0, 0.0, 0.0, 0.0], [0.0, 0.0, 0.0, 0.0, 0.0, 0.0, 0.0, 0.0, 0.0, 0.0, 0.0, 0.0, 0.0, 0.0, 0.0, 0.0, 0.0, 0.0, 0.0, 0.0, 0.0, 0.0, 0.0, 0.0], [0.0, 0.0, 0.0, 0.0, 0.0, 0.0, 0.0, 0.0, 0.0, 0.0, 0.0, 0.0, 0.0, 0.0, 0.0, 0.0, 0.0, 0.0, 0.0, 0.0, 0.0, 0.0, 0.0, 0.0], [0.0, 0.0, 0.0, 0.0, 0.0, 0.0, 0.0, 0.0, 0.0, 0.0, 0.0, 0.0, 0.0, 0.0, 0.0, 0.0, 0.0, 0.0, 0.0, 0.0, 0.0, 0.0, 0.0, 0.0], [0.0, 0.0, 0.0, 0.0, 0.0, 0.0, 0.0, 0.0, 0.0, 0.0, 0.0, 0.0, 0.0, 0.0, 0.0, 0.0, 0.0, 0.0, 0.0, 0.0, 0.0, 0.0, 0.0, 0.0], [0.0, 0.0, 0.0, 0.0, 0.0, 0.0, 0.0, 0.0, 0.0, 0.0, 0.0, 0.0, 0.0, 0.0, 0.0, 0.0, 0.0, 0.0, 0.0, 0.0, 0.0, 0.0, 0.0, 0.0], [0.0, 0.0, 0.0, 0.0, 0.0, 0.0, 0.0, 0.0, 0.0, 0.0, 0.0, 0.0, 0.0, 0.0, 0.0, 0.0, 0.0, 0.0, 0.0, 0.0, 0.0, 0.0, 0.0, 0.0], [0.0, 0.0, 0.0, 0.0, 0.0, 0.0, 0.0, 0.0, 0.0, 0.0, 0.0, 0.0, 0.0, 0.0, 0.0, 0.0, 0.0, 0.0, 0.0, 0.0, 0.0, 0.0, 0.0, 0.0], [0.0, 0.0, 0.0, 0.0, 0.0, 0.0, 0.0, 0.0, 0.0, 0.0, 0.0, 0.0, 0.0, 0.0, 0.0, 0.0, 0.0, 0.0, 0.0, 0.0, 0.0, 0.0, 0.0, 0.0], [0.0, 0.0, 0.0, 0.0, 0.0, 0.0, 0.0, 0.0, 0.0, 0.0, 0.0, 0.0, 0.0, 0.0, 0.0, 0.0, 0.0, 0.0, 0.0, 0.0, 0.0, 0.0, 0.0, 0.0], [0.0, 0.0, 0.0, 0.0, 0.0, 0.0, 0.0, 0.0, 0.0, 0.0, 0.0, 0.0, 0.0, 0.0, 0.0, 0.0, 0.0, 0.0, 0.0, 0.0, 0.0, 0.0, 0.0, 0.0], [0.0, 0.0, 0.0, 0.0, 0.0, 0.0, 0.0, 0.0, 0.0, 0.0, 0.0, 0.0, 0.0, 0.0, 0.0, 0.0, 0.0, 0.0, 0.0, 0.0, 0.0, 0.0, 0.0, 0.0], [0.0, 0.0, 0.0, 0.0, 0.0, 0.0, 0.0, 0.0, 0.0, 0.0, 0.0, 0.0, 0.0, 0.0, 0.0, 0.0, 0.0, 0.0, 0.0, 0.0, 0.0, 0.0, 0.0, 0.0], [0.0, 0.0, 0.0, 0.0, 0.0, 0.0, 0.0, 0.0, 0.0, 0.0, 0.0, 0.0, 0.0, 0.0, 0.0, 0.0, 0.0, 0.0, 0.0, 0.0, 0.0, 0.0, 0.0, 0.0], [0.0, 0.0, 0.0, 0.0, 0.0, 0.0, 0.0, 0.0, 0.0, 0.0, 0.0, 0.0, 0.0, 0.0, 0.0, 0.0, 0.0, 0.0, 0.0, 0.0, 0.0, 0.0, 0.0, 0.0], [0.0, 0.0, 0.0, 0.0, 0.0, 0.0, 0.0, 0.0, 0.0, 0.0, 0.0, 0.0, 0.0, 0.0, 0.0, 0.0, 0.0, 0.0, 0.0, 0.0, 0.0, 0.0, 0.0, 0.0], [0.0, 0.0, 0.0, 0.0, 0.0, 0.0, 0.0, 0.0, 0.0, 0.0, 0.0, 0.0, 0.0, 0.0, 0.0, 0.0, 0.0, 0.0, 0.0, 0.0, 0.0, 0.0, 0.0, 0.0]]\n",
      "Temperatura promedio al mediodía: 0.0\n"
     ]
    }
   ],
   "source": [
    "temps = [[0.0 for h in range (24)] for d in range (31)]\n",
    "print(temps)\n",
    "\n",
    "temps = [[0.0 for h in range(24)] for d in range (31)]\n",
    "#\n",
    "# la matriz se actualiza mágicamente aquí\n",
    "#\n",
    "\n",
    "suma = 0.0\n",
    "\n",
    "for day in temps:\n",
    "    suma += day[11]\n",
    "\n",
    "promedio= suma / 31\n",
    "\n",
    "print(\"Temperatura promedio al mediodía:\", promedio)"
   ]
  },
  {
   "cell_type": "code",
   "execution_count": null,
   "metadata": {},
   "outputs": [],
   "source": []
  }
 ],
 "metadata": {
  "kernelspec": {
   "display_name": "Python 3",
   "language": "python",
   "name": "python3"
  },
  "language_info": {
   "codemirror_mode": {
    "name": "ipython",
    "version": 3
   },
   "file_extension": ".py",
   "mimetype": "text/x-python",
   "name": "python",
   "nbconvert_exporter": "python",
   "pygments_lexer": "ipython3",
   "version": "3.8.3"
  }
 },
 "nbformat": 4,
 "nbformat_minor": 4
}
