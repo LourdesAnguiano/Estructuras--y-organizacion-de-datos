{
 "cells": [
  {
   "cell_type": "markdown",
   "metadata": {},
   "source": [
    "# Unidad 3\n",
    "## Estructuras y organizacion de datos\n",
    "### Lourdes Anguiano Banderas 19041340"
   ]
  },
  {
   "cell_type": "code",
   "execution_count": 1,
   "metadata": {},
   "outputs": [],
   "source": [
    "# Funciones"
   ]
  },
  {
   "cell_type": "code",
   "execution_count": 1,
   "metadata": {},
   "outputs": [],
   "source": [
    "def mi_funcion_hola():\n",
    "    print(\"Hola mundo, desde mi funcion\")"
   ]
  },
  {
   "cell_type": "code",
   "execution_count": 2,
   "metadata": {},
   "outputs": [
    {
     "name": "stdout",
     "output_type": "stream",
     "text": [
      "Hola mundo, desde mi funcion\n"
     ]
    }
   ],
   "source": [
    "mi_funcion_hola()"
   ]
  },
  {
   "cell_type": "code",
   "execution_count": 3,
   "metadata": {},
   "outputs": [
    {
     "name": "stdout",
     "output_type": "stream",
     "text": [
      "2 x 1 = 2\n",
      "2 x 2 = 4\n",
      "2 x 3 = 6\n",
      "2 x 4 = 8\n",
      "2 x 5 = 10\n",
      "2 x 6 = 12\n",
      "2 x 7 = 14\n",
      "2 x 8 = 16\n",
      "2 x 9 = 18\n",
      "2 x 10 = 20\n"
     ]
    }
   ],
   "source": [
    "# tabla de multiplicar del 2\n",
    "for z in range(1,11):\n",
    "        print(2, \"x\", z, \"=\", 2 * z)"
   ]
  },
  {
   "cell_type": "code",
   "execution_count": 8,
   "metadata": {},
   "outputs": [],
   "source": [
    "# tabla de multiplicar de cualquier valor\n",
    "def tablas_multiplicar(x):\n",
    "    for z in range (1,11):\n",
    "        print(x, \"por\", z, \"=\", x * z) "
   ]
  },
  {
   "cell_type": "code",
   "execution_count": 10,
   "metadata": {},
   "outputs": [
    {
     "name": "stdout",
     "output_type": "stream",
     "text": [
      "400 por 1 = 400\n",
      "400 por 2 = 800\n",
      "400 por 3 = 1200\n",
      "400 por 4 = 1600\n",
      "400 por 5 = 2000\n",
      "400 por 6 = 2400\n",
      "400 por 7 = 2800\n",
      "400 por 8 = 3200\n",
      "400 por 9 = 3600\n",
      "400 por 10 = 4000\n"
     ]
    }
   ],
   "source": [
    "tablas_multiplicar(400)"
   ]
  },
  {
   "cell_type": "code",
   "execution_count": 14,
   "metadata": {},
   "outputs": [],
   "source": [
    "def calculardoble(qaz):\n",
    "    qaz = qaz * 2\n",
    "    return qaz"
   ]
  },
  {
   "cell_type": "code",
   "execution_count": 16,
   "metadata": {},
   "outputs": [
    {
     "name": "stdout",
     "output_type": "stream",
     "text": [
      "6\n"
     ]
    }
   ],
   "source": [
    "x = calculardoble(3)\n",
    "print (x)"
   ]
  },
  {
   "cell_type": "markdown",
   "metadata": {},
   "source": [
    "## paso de parametros en base a su posicion"
   ]
  },
  {
   "cell_type": "code",
   "execution_count": 12,
   "metadata": {},
   "outputs": [
    {
     "name": "stdout",
     "output_type": "stream",
     "text": [
      "hola, mi nombre es Luke Skywalker\n",
      "hola, mi nombre es Jesse Quik\n",
      "hola, mi nombre es Clark Kent\n"
     ]
    }
   ],
   "source": [
    "def presentar(primerNombre, segundoNombre):\n",
    "    print(\"hola, mi nombre es\", primerNombre, segundoNombre)\n",
    "presentar(\"Luke\",\"Skywalker\")\n",
    "presentar(\"Jesse\",\"Quik\")\n",
    "presentar(\"Clark\",\"Kent\")"
   ]
  },
  {
   "cell_type": "code",
   "execution_count": 13,
   "metadata": {},
   "outputs": [
    {
     "name": "stdout",
     "output_type": "stream",
     "text": [
      "hola, mi nombre es Luke Skywalker mi edad es 20\n",
      "hola, mi nombre es Jesse Quik mi edad es 21\n",
      "hola, mi nombre es Clark Kent mi edad es 22\n"
     ]
    }
   ],
   "source": [
    "def presentar(primerNombre, segundoNombre,edad):\n",
    "    print(\"hola, mi nombre es\", primerNombre, segundoNombre,\"mi edad es\",edad)\n",
    "presentar(\"Luke\", \"Skywalker\", 20)\n",
    "presentar(\"Jesse\", \"Quik\", 21)\n",
    "presentar(\"Clark\", \"Kent\", 22)"
   ]
  },
  {
   "cell_type": "markdown",
   "metadata": {},
   "source": [
    "## paso de parametros por palabra\n",
    "\n",
    "##### los valores pasados a los parametros son precedidos por el nombre del parametro al que se  le va a pasar el valor, seguido por el signo = ."
   ]
  },
  {
   "cell_type": "code",
   "execution_count": 14,
   "metadata": {},
   "outputs": [
    {
     "name": "stdout",
     "output_type": "stream",
     "text": [
      "hola, mi nombre es James Bond\n",
      "hola, mi nombre es James Bond\n",
      "hola, mi nombre es Luke Skywalker\n"
     ]
    }
   ],
   "source": [
    "def presentar(primerNombre, segundoNombre):\n",
    "    print(\"hola, mi nombre es\", primerNombre, segundoNombre)\n",
    "presentar(primerNombre = \"James\", segundoNombre = \"Bond\" )\n",
    "presentar(\"James\",\"Bond\")\n",
    "presentar(segundoNombre = \"Skywalker\",primerNombre = \"Luke\")"
   ]
  },
  {
   "cell_type": "code",
   "execution_count": 18,
   "metadata": {},
   "outputs": [
    {
     "name": "stdout",
     "output_type": "stream",
     "text": [
      "Hola, mi nombre es Juan Escarpita\n",
      "Hola, mi nombre es Pedro Anguiano\n"
     ]
    }
   ],
   "source": [
    "# Especificar parámetro con un valor por defecto\n",
    "\n",
    "def presentar(primerNombre, segundoNombre=\"Anguiano\"):\n",
    "    print(\"Hola, mi nombre es\", primerNombre, segundoNombre)\n",
    "\n",
    "presentar(\"Juan\", \"Escarpita\")\n",
    "presentar(\"Pedro\")"
   ]
  },
  {
   "cell_type": "markdown",
   "metadata": {},
   "source": [
    "## Alcance de las variables en funciones"
   ]
  },
  {
   "cell_type": "code",
   "execution_count": 19,
   "metadata": {},
   "outputs": [
    {
     "ename": "NameError",
     "evalue": "name 'x' is not defined",
     "output_type": "error",
     "traceback": [
      "\u001b[1;31m---------------------------------------------------------------------------\u001b[0m",
      "\u001b[1;31mNameError\u001b[0m                                 Traceback (most recent call last)",
      "\u001b[1;32m<ipython-input-19-a564120cf87a>\u001b[0m in \u001b[0;36m<module>\u001b[1;34m\u001b[0m\n\u001b[0;32m      3\u001b[0m \u001b[1;33m\u001b[0m\u001b[0m\n\u001b[0;32m      4\u001b[0m \u001b[0mscopeTest\u001b[0m\u001b[1;33m(\u001b[0m\u001b[1;33m)\u001b[0m\u001b[1;33m\u001b[0m\u001b[1;33m\u001b[0m\u001b[0m\n\u001b[1;32m----> 5\u001b[1;33m \u001b[0mprint\u001b[0m\u001b[1;33m(\u001b[0m\u001b[0mx\u001b[0m\u001b[1;33m)\u001b[0m\u001b[1;33m\u001b[0m\u001b[1;33m\u001b[0m\u001b[0m\n\u001b[0m",
      "\u001b[1;31mNameError\u001b[0m: name 'x' is not defined"
     ]
    }
   ],
   "source": [
    "def scopeTest():\n",
    "    x = 123\n",
    "\n",
    "scopeTest()\n",
    "print(x)"
   ]
  },
  {
   "cell_type": "code",
   "execution_count": 20,
   "metadata": {},
   "outputs": [
    {
     "name": "stdout",
     "output_type": "stream",
     "text": [
      "123\n"
     ]
    }
   ],
   "source": [
    "def scopeTest():\n",
    "    x = 123\n",
    "    print(x)\n",
    "scopeTest()"
   ]
  },
  {
   "cell_type": "code",
   "execution_count": 21,
   "metadata": {},
   "outputs": [
    {
     "name": "stdout",
     "output_type": "stream",
     "text": [
      "¿Conozco a la variable? 1\n",
      "1\n"
     ]
    }
   ],
   "source": [
    "# El alcance de la variable fuera de una función tiene un alcance global\n",
    "def miFuncion():\n",
    "    print(\"¿Conozco a la variable?\", var)\n",
    "\n",
    "var = 1\n",
    "miFuncion()\n",
    "print(var)"
   ]
  },
  {
   "cell_type": "code",
   "execution_count": 22,
   "metadata": {},
   "outputs": [
    {
     "name": "stdout",
     "output_type": "stream",
     "text": [
      "¿Conozco a la variable? 2\n",
      "1\n"
     ]
    }
   ],
   "source": [
    "def miFuncion():\n",
    "    var = 2\n",
    "    print(\"¿Conozco a la variable?\", var)\n",
    "\n",
    "var = 1\n",
    "miFuncion()\n",
    "print(var)"
   ]
  },
  {
   "cell_type": "code",
   "execution_count": 23,
   "metadata": {},
   "outputs": [
    {
     "name": "stdout",
     "output_type": "stream",
     "text": [
      "¿Conozco a aquella variable? 2\n",
      "2\n"
     ]
    }
   ],
   "source": [
    "def miFuncion():\n",
    "    global var\n",
    "    var = 2\n",
    "    print(\"¿Conozco a aquella variable?\", var)\n",
    "\n",
    "var = 1\n",
    "miFuncion()\n",
    "print(var)"
   ]
  },
  {
   "cell_type": "code",
   "execution_count": 24,
   "metadata": {},
   "outputs": [
    {
     "name": "stdout",
     "output_type": "stream",
     "text": [
      "Yo obtuve 1\n",
      "Yo ahora tengo 2\n",
      "1\n"
     ]
    }
   ],
   "source": [
    "def miFuncion(n):\n",
    "    print(\"Yo obtuve\", n)\n",
    "    n += 1\n",
    "    print(\"Yo ahora tengo\", n)\n",
    "\n",
    "var = 1\n",
    "miFuncion(var)\n",
    "print(var)"
   ]
  },
  {
   "cell_type": "code",
   "execution_count": 25,
   "metadata": {},
   "outputs": [
    {
     "name": "stdout",
     "output_type": "stream",
     "text": [
      "23.671253629592222\n"
     ]
    }
   ],
   "source": [
    "# la invertida significa que el codigo continua en la sig. linea\n",
    "def imc(peso, altura):\n",
    "    if altura < 1.0 or altura > 2.5 or \\\n",
    "    peso < 20 or peso > 200:\n",
    "        return None\n",
    "    \n",
    "    return peso / altura ** 2\n",
    "\n",
    "print(imc(75, 1.78))"
   ]
  },
  {
   "cell_type": "markdown",
   "metadata": {},
   "source": [
    "## Tuplas y dicccionarios"
   ]
  },
  {
   "cell_type": "code",
   "execution_count": 26,
   "metadata": {},
   "outputs": [
    {
     "name": "stdout",
     "output_type": "stream",
     "text": [
      "1\n",
      "1000\n",
      "(10, 100, 1000)\n",
      "(1, 10)\n",
      "1\n",
      "10\n",
      "100\n",
      "1000\n"
     ]
    }
   ],
   "source": [
    "# Las similitudes pueden ser engañosas - no intentes modificar en contenido de la tupla ¡No es una lista!\n",
    "miTupla = (1, 10, 100, 1000)\n",
    "\n",
    "print(miTupla[0])\n",
    "print(miTupla[-1])\n",
    "print(miTupla[1:])\n",
    "print(miTupla[:-2])\n",
    "\n",
    "for elem in miTupla:\n",
    "    print(elem)"
   ]
  },
  {
   "cell_type": "code",
   "execution_count": 27,
   "metadata": {},
   "outputs": [
    {
     "ename": "AttributeError",
     "evalue": "'tuple' object has no attribute 'append'",
     "output_type": "error",
     "traceback": [
      "\u001b[1;31m---------------------------------------------------------------------------\u001b[0m",
      "\u001b[1;31mAttributeError\u001b[0m                            Traceback (most recent call last)",
      "\u001b[1;32m<ipython-input-27-2d69fd2f23cb>\u001b[0m in \u001b[0;36m<module>\u001b[1;34m\u001b[0m\n\u001b[0;32m      3\u001b[0m \u001b[0mmiTupla\u001b[0m \u001b[1;33m=\u001b[0m \u001b[1;33m(\u001b[0m\u001b[1;36m1\u001b[0m\u001b[1;33m,\u001b[0m \u001b[1;36m10\u001b[0m\u001b[1;33m,\u001b[0m \u001b[1;36m100\u001b[0m\u001b[1;33m,\u001b[0m \u001b[1;36m1000\u001b[0m\u001b[1;33m)\u001b[0m\u001b[1;33m\u001b[0m\u001b[1;33m\u001b[0m\u001b[0m\n\u001b[0;32m      4\u001b[0m \u001b[1;33m\u001b[0m\u001b[0m\n\u001b[1;32m----> 5\u001b[1;33m \u001b[0mmiTupla\u001b[0m\u001b[1;33m.\u001b[0m\u001b[0mappend\u001b[0m\u001b[1;33m(\u001b[0m\u001b[1;36m10000\u001b[0m\u001b[1;33m)\u001b[0m\u001b[1;33m\u001b[0m\u001b[1;33m\u001b[0m\u001b[0m\n\u001b[0m\u001b[0;32m      6\u001b[0m \u001b[1;32mdel\u001b[0m \u001b[0mmiTupla\u001b[0m\u001b[1;33m[\u001b[0m\u001b[1;36m0\u001b[0m\u001b[1;33m]\u001b[0m\u001b[1;33m\u001b[0m\u001b[1;33m\u001b[0m\u001b[0m\n\u001b[0;32m      7\u001b[0m \u001b[0mmiTupla\u001b[0m\u001b[1;33m[\u001b[0m\u001b[1;36m1\u001b[0m\u001b[1;33m]\u001b[0m \u001b[1;33m=\u001b[0m \u001b[1;33m-\u001b[0m\u001b[1;36m10\u001b[0m\u001b[1;33m\u001b[0m\u001b[1;33m\u001b[0m\u001b[0m\n",
      "\u001b[1;31mAttributeError\u001b[0m: 'tuple' object has no attribute 'append'"
     ]
    }
   ],
   "source": [
    "# Todas estas instrucciones (con excepción de primera) causarán un error de ejecución :\n",
    "\n",
    "miTupla = (1, 10, 100, 1000)\n",
    "\n",
    "miTupla.append(10000)\n",
    "del miTupla[0]\n",
    "miTupla[1] = -10"
   ]
  },
  {
   "cell_type": "code",
   "execution_count": 28,
   "metadata": {},
   "outputs": [
    {
     "name": "stdout",
     "output_type": "stream",
     "text": [
      "9\n",
      "(1, 10, 100, 1000, 10000)\n",
      "(1, 10, 100, 1, 10, 100, 1, 10, 100)\n",
      "True\n",
      "True\n"
     ]
    }
   ],
   "source": [
    "miTupla = (1, 10, 100)\n",
    "\n",
    "t1 = miTupla + (1000, 10000)\n",
    "t2 = miTupla * 3\n",
    "\n",
    "print(len(t2))\n",
    "print(t1)\n",
    "print(t2)\n",
    "print(10 in miTupla)\n",
    "print(-10 not in miTupla)"
   ]
  },
  {
   "cell_type": "code",
   "execution_count": null,
   "metadata": {},
   "outputs": [],
   "source": []
  }
 ],
 "metadata": {
  "kernelspec": {
   "display_name": "Python 3",
   "language": "python",
   "name": "python3"
  },
  "language_info": {
   "codemirror_mode": {
    "name": "ipython",
    "version": 3
   },
   "file_extension": ".py",
   "mimetype": "text/x-python",
   "name": "python",
   "nbconvert_exporter": "python",
   "pygments_lexer": "ipython3",
   "version": "3.8.3"
  }
 },
 "nbformat": 4,
 "nbformat_minor": 4
}
