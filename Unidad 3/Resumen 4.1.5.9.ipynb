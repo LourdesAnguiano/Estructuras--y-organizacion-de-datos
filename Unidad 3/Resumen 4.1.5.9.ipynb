{
 "cells": [
  {
   "cell_type": "markdown",
   "metadata": {},
   "source": [
    "# Unidad 3\n",
    "## Estructura y organizacion de datos\n",
    "### Lourdes Anguiano Banderas 19041340"
   ]
  },
  {
   "cell_type": "code",
   "execution_count": 1,
   "metadata": {},
   "outputs": [
    {
     "name": "stdout",
     "output_type": "stream",
     "text": [
      "24\n"
     ]
    }
   ],
   "source": [
    "# La función factorial es un ejemplo clásico de como se puede implementar el concepto de recursividad.\n",
    "\n",
    "# Implementación recursiva de la función factorial\n",
    "def factorial(n):\n",
    "    if n == 1:    # la condición de terminación\n",
    "        return 1\n",
    "    else:\n",
    "        return n * factorial(n - 1)\n",
    "\n",
    "print(factorial(4)) # 4 * 3 * 2 * 1 = 24"
   ]
  },
  {
   "cell_type": "markdown",
   "metadata": {},
   "source": [
    "## Ejercicio 1"
   ]
  },
  {
   "cell_type": "code",
   "execution_count": null,
   "metadata": {},
   "outputs": [],
   "source": [
    "def factorial(n):\n",
    "    return n * factorial(n - 1)\n",
    "\n",
    "print(factorial(4))\n",
    "\n",
    "# La función no tiene una condición de terminación, por lo tanto\n",
    "# Python arrojara una excepción"
   ]
  },
  {
   "cell_type": "markdown",
   "metadata": {},
   "source": [
    "## Ejercicio 2"
   ]
  },
  {
   "cell_type": "code",
   "execution_count": 3,
   "metadata": {},
   "outputs": [
    {
     "name": "stdout",
     "output_type": "stream",
     "text": [
      "56\n"
     ]
    }
   ],
   "source": [
    "def fun(a):\n",
    "    if a > 30:\n",
    "        return 3\n",
    "    else:\n",
    "        return a + fun(a + 3)\n",
    "\n",
    "print(fun(25))"
   ]
  },
  {
   "cell_type": "code",
   "execution_count": null,
   "metadata": {},
   "outputs": [],
   "source": []
  }
 ],
 "metadata": {
  "kernelspec": {
   "display_name": "Python 3",
   "language": "python",
   "name": "python3"
  },
  "language_info": {
   "codemirror_mode": {
    "name": "ipython",
    "version": 3
   },
   "file_extension": ".py",
   "mimetype": "text/x-python",
   "name": "python",
   "nbconvert_exporter": "python",
   "pygments_lexer": "ipython3",
   "version": "3.8.3"
  }
 },
 "nbformat": 4,
 "nbformat_minor": 4
}
