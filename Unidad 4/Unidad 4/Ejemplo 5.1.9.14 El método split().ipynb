{
 "cells": [
  {
   "cell_type": "markdown",
   "metadata": {},
   "source": [
    "# ESTRUCTRURAS Y ORGANIZACION DE DATOS\n",
    "## LOURDES ANGUIANO BANDERAS 19041340\n",
    "## UNIDAD 4"
   ]
  },
  {
   "cell_type": "code",
   "execution_count": null,
   "metadata": {},
   "outputs": [],
   "source": []
  },
  {
   "cell_type": "markdown",
   "metadata": {},
   "source": [
    "### Método split()"
   ]
  },
  {
   "cell_type": "code",
   "execution_count": 1,
   "metadata": {},
   "outputs": [
    {
     "name": "stdout",
     "output_type": "stream",
     "text": [
      "['phi', 'chi', 'psi']\n"
     ]
    }
   ],
   "source": [
    "# El método split() divide la cadena y crea una lista de todas las subcadenas detectadas.\n",
    "\n",
    "''' El método asume que las subcadenas están delimitadas por espacios en blanco\n",
    "- los espacios no participan en la operación y no se copian en la lista resultante.'''\n",
    "\n",
    "# Demostración del método split()\n",
    "print(\"phi       chi\\npsi\".split())\n",
    "\n",
    "# Nota: la operación inversa se puede realizar por el método join()"
   ]
  },
  {
   "cell_type": "code",
   "execution_count": null,
   "metadata": {},
   "outputs": [],
   "source": []
  }
 ],
 "metadata": {
  "kernelspec": {
   "display_name": "Python 3",
   "language": "python",
   "name": "python3"
  },
  "language_info": {
   "codemirror_mode": {
    "name": "ipython",
    "version": 3
   },
   "file_extension": ".py",
   "mimetype": "text/x-python",
   "name": "python",
   "nbconvert_exporter": "python",
   "pygments_lexer": "ipython3",
   "version": "3.8.3"
  }
 },
 "nbformat": 4,
 "nbformat_minor": 4
}
