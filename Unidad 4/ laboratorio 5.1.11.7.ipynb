{
 "cells": [
  {
   "cell_type": "markdown",
   "metadata": {},
   "source": [
    "# Estructuras y organizacion de datos\n",
    "## Unidad 4\n",
    "### Lourdes Anguiano Banderas"
   ]
  },
  {
   "cell_type": "code",
   "execution_count": 1,
   "metadata": {},
   "outputs": [
    {
     "name": "stdout",
     "output_type": "stream",
     "text": [
      "Escribe un texto: Ten animals I slam in a net\n",
      "Es un palíndromo.\n"
     ]
    }
   ],
   "source": [
    "texto = input(\"Escribe un texto: \")\n",
    "texto = texto.lower()\n",
    "texto = texto.replace(\" \", \"\")\n",
    "\n",
    "textoInvertido = reversed(texto)\n",
    "\n",
    "if list(texto) == list(textoInvertido):\n",
    "    print(\"Es un palíndromo.\")\n",
    "else:\n",
    "    print(\"No es un palíndromo.\")"
   ]
  },
  {
   "cell_type": "code",
   "execution_count": null,
   "metadata": {},
   "outputs": [],
   "source": []
  }
 ],
 "metadata": {
  "kernelspec": {
   "display_name": "Python 3",
   "language": "python",
   "name": "python3"
  },
  "language_info": {
   "codemirror_mode": {
    "name": "ipython",
    "version": 3
   },
   "file_extension": ".py",
   "mimetype": "text/x-python",
   "name": "python",
   "nbconvert_exporter": "python",
   "pygments_lexer": "ipython3",
   "version": "3.8.3"
  }
 },
 "nbformat": 4,
 "nbformat_minor": 4
}
