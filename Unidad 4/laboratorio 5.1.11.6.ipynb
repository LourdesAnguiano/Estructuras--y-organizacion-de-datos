{
 "cells": [
  {
   "cell_type": "markdown",
   "metadata": {},
   "source": [
    "# Estructuras y organizacion de datos\n",
    "## Unidad 4\n",
    "### Lourdes Anguiano Banderas"
   ]
  },
  {
   "cell_type": "code",
   "execution_count": 2,
   "metadata": {},
   "outputs": [
    {
     "name": "stdout",
     "output_type": "stream",
     "text": [
      "¿Qué mensaje quieres encriptar? > 123\n",
      "Elige un valor de cambio entre 1 y 25 > 2\n",
      "Tu mensaje encriptado es: 123\n"
     ]
    }
   ],
   "source": [
    "import string\n",
    "texto = input(\"¿Qué mensaje quieres encriptar? > \")\n",
    "valido = False\n",
    "while valido == False:    \n",
    "    n = int(input(\"Elige un valor de cambio entre 1 y 25 > \"))\n",
    "    if n <= 25:\n",
    "        valido = True\n",
    "abecedario = list(string.ascii_lowercase + string.ascii_letters)\n",
    "encriptar = \"\"\n",
    "for l in texto:\n",
    "    \n",
    "    if l in abecedario:\n",
    "        pos_letra = abecedario.index(l)\n",
    "        \n",
    "        nueva_pos = (pos_letra + n) % len(abecedario)\n",
    "        encriptar+= abecedario[nueva_pos]\n",
    "    else:\n",
    "        \n",
    "        encriptar+= l\n",
    "\n",
    "print(\"Tu mensaje encriptado es:\", encriptar)"
   ]
  },
  {
   "cell_type": "code",
   "execution_count": null,
   "metadata": {},
   "outputs": [],
   "source": []
  }
 ],
 "metadata": {
  "kernelspec": {
   "display_name": "Python 3",
   "language": "python",
   "name": "python3"
  },
  "language_info": {
   "codemirror_mode": {
    "name": "ipython",
    "version": 3
   },
   "file_extension": ".py",
   "mimetype": "text/x-python",
   "name": "python",
   "nbconvert_exporter": "python",
   "pygments_lexer": "ipython3",
   "version": "3.8.3"
  }
 },
 "nbformat": 4,
 "nbformat_minor": 4
}
