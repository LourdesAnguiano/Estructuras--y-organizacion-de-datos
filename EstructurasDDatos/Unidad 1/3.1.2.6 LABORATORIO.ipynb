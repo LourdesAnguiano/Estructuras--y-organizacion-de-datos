{
 "cells": [
  {
   "cell_type": "markdown",
   "metadata": {},
   "source": [
    "# Lourdes Anguinao Banderas\n",
    "## Laboratorio\n",
    "### Estructura y organizacion de datos"
   ]
  },
  {
   "cell_type": "code",
   "execution_count": 5,
   "metadata": {},
   "outputs": [
    {
     "name": "stdout",
     "output_type": "stream",
     "text": [
      "1 Missisipi\n",
      "2 Missisipi\n",
      "3 Missisipi\n",
      "4 Missisipi\n",
      "5 Missisipi\n",
      "¡Listo o no, ahí voy!\n"
     ]
    }
   ],
   "source": [
    "import time\n",
    "\n",
    "for x in range(1,6):\n",
    "    \n",
    "    print(x, \"Missisipi\")\n",
    "    \n",
    "    time.sleep(1)\n",
    "\n",
    "print(\"¡Listo o no, ahí voy!\")"
   ]
  },
  {
   "cell_type": "code",
   "execution_count": null,
   "metadata": {},
   "outputs": [],
   "source": []
  }
 ],
 "metadata": {
  "kernelspec": {
   "display_name": "Python 3",
   "language": "python",
   "name": "python3"
  },
  "language_info": {
   "codemirror_mode": {
    "name": "ipython",
    "version": 3
   },
   "file_extension": ".py",
   "mimetype": "text/x-python",
   "name": "python",
   "nbconvert_exporter": "python",
   "pygments_lexer": "ipython3",
   "version": "3.8.3"
  }
 },
 "nbformat": 4,
 "nbformat_minor": 4
}
