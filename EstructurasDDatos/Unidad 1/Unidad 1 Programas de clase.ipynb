{
 "cells": [
  {
   "cell_type": "markdown",
   "metadata": {},
   "source": [
    "# Anguiano Banderas Lourdes\n",
    "## Estructuras y organizacion de datos."
   ]
  },
  {
   "cell_type": "markdown",
   "metadata": {},
   "source": [
    "### La funcion print"
   ]
  },
  {
   "cell_type": "code",
   "execution_count": 2,
   "metadata": {},
   "outputs": [
    {
     "name": "stdout",
     "output_type": "stream",
     "text": [
      "\n",
      "La variable x tiene el valor de :  10\n",
      "\n",
      "La variable c tiene un valor de 5\n",
      "\n",
      "El valor de x es: 10 \n",
      "Y el valor de c es: 5\n",
      "\n",
      "hola Mundo\n",
      "\n",
      "Animo, tu puedes programador\n"
     ]
    }
   ],
   "source": [
    "x=10\n",
    "c=5\n",
    "print (\"\\nLa variable x tiene el valor de : \",x)\n",
    "print (\"\\nLa variable c tiene un valor de\",c)\n",
    "print (\"\\nEl valor de x es:\",x, \"\\nY el valor de c es:\",c)\n",
    "print (\"\\nhola Mundo\")\n",
    "print (\"\\nAnimo, tu puedes programador\")\n"
   ]
  },
  {
   "cell_type": "code",
   "execution_count": 11,
   "metadata": {},
   "outputs": [
    {
     "name": "stdout",
     "output_type": "stream",
     "text": [
      "El valor de x es: 2 ***** Y el valor de c es: 3\n"
     ]
    }
   ],
   "source": [
    "#Usamos el parametro \"end\" para especificar cual es el terminador\n",
    "#de linea en una instruccion print\n",
    "x = 2\n",
    "c = 3\n",
    "print (\"El valor de x es:\",x, end=' *****')\n",
    "print (\" Y el valor de c es:\",c)\n"
   ]
  },
  {
   "cell_type": "code",
   "execution_count": 17,
   "metadata": {},
   "outputs": [
    {
     "name": "stdout",
     "output_type": "stream",
     "text": [
      "El valor de x es =1\n",
      "Y el valor de c es =5\n"
     ]
    }
   ],
   "source": [
    "#Especificar el texto que separa los argumentos de la funcion print\n",
    "#parametro \"sep\"\n",
    "\n",
    "x = 1\n",
    "c = 5\n",
    "print(\"El valor de x es \",x, sep='=')\n",
    "print(\"Y el valor de c es \",c, sep='=')\n"
   ]
  },
  {
   "cell_type": "code",
   "execution_count": 19,
   "metadata": {},
   "outputs": [
    {
     "name": "stdout",
     "output_type": "stream",
     "text": [
      "El valor de x es=>1\n",
      "\n",
      "\n",
      "El valor de 'c' es 5\n"
     ]
    }
   ],
   "source": [
    "#Especificar separador de argumentos y el terminador de Lineas\n",
    "\n",
    "print('El valor de x es', x , sep='=>', end='\\n\\n\\n')\n",
    "print('El valor de \\'c\\' es',c)\n"
   ]
  },
  {
   "cell_type": "markdown",
   "metadata": {},
   "source": [
    "## Literales"
   ]
  },
  {
   "cell_type": "code",
   "execution_count": 7,
   "metadata": {},
   "outputs": [
    {
     "name": "stdout",
     "output_type": "stream",
     "text": [
      "texto\n"
     ]
    }
   ],
   "source": [
    "x=11500000\n",
    "x=115.58\n",
    "x=\"texto\"\n",
    "print(x)\n"
   ]
  },
  {
   "cell_type": "code",
   "execution_count": 8,
   "metadata": {},
   "outputs": [
    {
     "name": "stdout",
     "output_type": "stream",
     "text": [
      "88000000\n"
     ]
    }
   ],
   "source": [
    "#numeros con separdores de milles\n",
    "x=11_000_000\n",
    "y=8\n",
    "print(x*y)\n"
   ]
  },
  {
   "cell_type": "code",
   "execution_count": 16,
   "metadata": {},
   "outputs": [
    {
     "name": "stdout",
     "output_type": "stream",
     "text": [
      "668\n"
     ]
    }
   ],
   "source": [
    "##Valores Octales\n",
    "a= 0o1234\n",
    "print(a)\n"
   ]
  },
  {
   "cell_type": "code",
   "execution_count": 14,
   "metadata": {},
   "outputs": [
    {
     "name": "stdout",
     "output_type": "stream",
     "text": [
      "4660\n"
     ]
    }
   ],
   "source": [
    "##Valores hexadecimal\n",
    "b= 0x1234\n",
    "print(b)"
   ]
  },
  {
   "cell_type": "code",
   "execution_count": 17,
   "metadata": {},
   "outputs": [
    {
     "name": "stdout",
     "output_type": "stream",
     "text": [
      "0.5\n"
     ]
    }
   ],
   "source": [
    "z=.5\n",
    "print(z)\n"
   ]
  },
  {
   "cell_type": "code",
   "execution_count": 18,
   "metadata": {},
   "outputs": [
    {
     "name": "stdout",
     "output_type": "stream",
     "text": [
      "30000000 310000000.0\n"
     ]
    }
   ],
   "source": [
    "vl=30000000\n",
    "vl2=3.1e8\n",
    "print(vl,vl2)"
   ]
  },
  {
   "cell_type": "code",
   "execution_count": 19,
   "metadata": {},
   "outputs": [
    {
     "name": "stdout",
     "output_type": "stream",
     "text": [
      "80.0\n"
     ]
    }
   ],
   "source": [
    "w=0.08e3\n",
    "print(w)"
   ]
  },
  {
   "cell_type": "code",
   "execution_count": 1,
   "metadata": {},
   "outputs": [
    {
     "name": "stdout",
     "output_type": "stream",
     "text": [
      "Hola soy lulu\n"
     ]
    }
   ],
   "source": [
    "L= \"Hola soy lulu\"\n",
    "print(L)"
   ]
  },
  {
   "cell_type": "code",
   "execution_count": 3,
   "metadata": {},
   "outputs": [
    {
     "name": "stdout",
     "output_type": "stream",
     "text": [
      "******************************\n"
     ]
    }
   ],
   "source": [
    "print(\"******************************\")"
   ]
  },
  {
   "cell_type": "code",
   "execution_count": 4,
   "metadata": {},
   "outputs": [
    {
     "name": "stdout",
     "output_type": "stream",
     "text": [
      "Hola Hola Hola Hola Hola Hola Hola Hola Hola Hola Hola Hola Hola Hola Hola Hola Hola Hola Hola Hola Hola Hola Hola Hola Hola Hola Hola Hola Hola Hola Hola Hola Hola Hola Hola Hola Hola Hola Hola Hola Hola Hola Hola Hola Hola Hola Hola Hola Hola Hola \n"
     ]
    }
   ],
   "source": [
    "print(\"Hola \" * 50)"
   ]
  },
  {
   "cell_type": "code",
   "execution_count": 5,
   "metadata": {},
   "outputs": [
    {
     "name": "stdout",
     "output_type": "stream",
     "text": [
      "15.0\n"
     ]
    }
   ],
   "source": [
    "#Exponenciacion\n",
    "print(3 * 5.0)"
   ]
  },
  {
   "cell_type": "code",
   "execution_count": 6,
   "metadata": {},
   "outputs": [
    {
     "name": "stdout",
     "output_type": "stream",
     "text": [
      "243\n"
     ]
    }
   ],
   "source": [
    "print(3 **5)"
   ]
  },
  {
   "cell_type": "code",
   "execution_count": 7,
   "metadata": {},
   "outputs": [
    {
     "name": "stdout",
     "output_type": "stream",
     "text": [
      "5.0\n"
     ]
    }
   ],
   "source": [
    "print (10/2)"
   ]
  },
  {
   "cell_type": "code",
   "execution_count": 8,
   "metadata": {},
   "outputs": [
    {
     "name": "stdout",
     "output_type": "stream",
     "text": [
      "4\n"
     ]
    }
   ],
   "source": [
    "print(9 // 2)"
   ]
  },
  {
   "cell_type": "code",
   "execution_count": 9,
   "metadata": {},
   "outputs": [
    {
     "name": "stdout",
     "output_type": "stream",
     "text": [
      "1\n"
     ]
    }
   ],
   "source": [
    "print(9 % 2)"
   ]
  },
  {
   "cell_type": "code",
   "execution_count": 10,
   "metadata": {},
   "outputs": [
    {
     "name": "stdout",
     "output_type": "stream",
     "text": [
      "2\n"
     ]
    }
   ],
   "source": [
    "print (+2)"
   ]
  },
  {
   "cell_type": "code",
   "execution_count": 11,
   "metadata": {},
   "outputs": [
    {
     "name": "stdout",
     "output_type": "stream",
     "text": [
      "17\n"
     ]
    }
   ],
   "source": [
    "print (2 + 3 * 5)"
   ]
  },
  {
   "cell_type": "code",
   "execution_count": 12,
   "metadata": {},
   "outputs": [
    {
     "name": "stdout",
     "output_type": "stream",
     "text": [
      "25\n"
     ]
    }
   ],
   "source": [
    "print((2 + 3) * 5)"
   ]
  },
  {
   "cell_type": "code",
   "execution_count": 13,
   "metadata": {},
   "outputs": [
    {
     "name": "stdout",
     "output_type": "stream",
     "text": [
      "12\n"
     ]
    }
   ],
   "source": [
    "print (2 * 2 * 3)"
   ]
  },
  {
   "cell_type": "code",
   "execution_count": 14,
   "metadata": {},
   "outputs": [
    {
     "name": "stdout",
     "output_type": "stream",
     "text": [
      "256\n"
     ]
    }
   ],
   "source": [
    "print(2 ** 2 ** 3)"
   ]
  },
  {
   "cell_type": "code",
   "execution_count": 19,
   "metadata": {},
   "outputs": [
    {
     "ename": "SyntaxError",
     "evalue": "Missing parentheses in call to 'print'. Did you mean print(1= cualquier_nombre_de_variable_puede_usarse)? (<ipython-input-19-4b68cd3603f4>, line 1)",
     "output_type": "error",
     "traceback": [
      "\u001b[1;36m  File \u001b[1;32m\"<ipython-input-19-4b68cd3603f4>\"\u001b[1;36m, line \u001b[1;32m1\u001b[0m\n\u001b[1;33m    print 1= cualquier_nombre_de_variable_puede_usarse\u001b[0m\n\u001b[1;37m          ^\u001b[0m\n\u001b[1;31mSyntaxError\u001b[0m\u001b[1;31m:\u001b[0m Missing parentheses in call to 'print'. Did you mean print(1= cualquier_nombre_de_variable_puede_usarse)?\n"
     ]
    }
   ],
   "source": [
    "print 1= cualquier_nombre_de_variable_puede_usarse\n",
    "print(cualquier_nombre_de_variable_puede_usarse)"
   ]
  },
  {
   "cell_type": "code",
   "execution_count": 20,
   "metadata": {},
   "outputs": [
    {
     "name": "stdout",
     "output_type": "stream",
     "text": [
      "8\n"
     ]
    }
   ],
   "source": [
    "x = 5\n",
    "x = x + 3\n",
    "print(x)"
   ]
  },
  {
   "cell_type": "code",
   "execution_count": 21,
   "metadata": {},
   "outputs": [
    {
     "name": "stdout",
     "output_type": "stream",
     "text": [
      "8\n"
     ]
    }
   ],
   "source": [
    "x = 5\n",
    "x += 3\n",
    "print(x)"
   ]
  },
  {
   "cell_type": "code",
   "execution_count": 22,
   "metadata": {},
   "outputs": [
    {
     "name": "stdout",
     "output_type": "stream",
     "text": [
      "125\n"
     ]
    }
   ],
   "source": [
    "x = 5\n",
    "x = x ** 3\n",
    "print (x)"
   ]
  },
  {
   "cell_type": "code",
   "execution_count": 23,
   "metadata": {},
   "outputs": [
    {
     "name": "stdout",
     "output_type": "stream",
     "text": [
      "125\n"
     ]
    }
   ],
   "source": [
    "x = 5\n",
    "x **= 3\n",
    "print(x)"
   ]
  },
  {
   "cell_type": "code",
   "execution_count": 24,
   "metadata": {},
   "outputs": [
    {
     "name": "stdout",
     "output_type": "stream",
     "text": [
      "3.3333333333333335\n"
     ]
    }
   ],
   "source": [
    "x = 10\n",
    "x = x / 3\n",
    "print(x)"
   ]
  },
  {
   "cell_type": "code",
   "execution_count": 25,
   "metadata": {},
   "outputs": [
    {
     "name": "stdout",
     "output_type": "stream",
     "text": [
      "3.3333333333333335\n"
     ]
    }
   ],
   "source": [
    "x = 10\n",
    "x /= 3\n",
    "print(x)"
   ]
  },
  {
   "cell_type": "code",
   "execution_count": 1,
   "metadata": {},
   "outputs": [
    {
     "data": {
      "text/plain": [
       "'\\ncomentarios de multiples lineas \\nLourdes Anguiano Banderas\\nes\\n'"
      ]
     },
     "execution_count": 1,
     "metadata": {},
     "output_type": "execute_result"
    }
   ],
   "source": [
    "# comentario de una sola linea\n",
    "\"\"\"\n",
    "comentarios de multiples lineas \n",
    "Lourdes Anguiano Banderas\n",
    "es\n",
    "\"\"\""
   ]
  },
  {
   "cell_type": "code",
   "execution_count": 3,
   "metadata": {},
   "outputs": [
    {
     "name": "stdout",
     "output_type": "stream",
     "text": [
      "Dime algo  holaa\n",
      "Mmm... holaa ...en serio?\n"
     ]
    }
   ],
   "source": [
    "algo = input (\"Dime algo  \")\n",
    "print (\"Mmm...\", algo, \"...en serio?\")"
   ]
  },
  {
   "cell_type": "code",
   "execution_count": 4,
   "metadata": {},
   "outputs": [
    {
     "name": "stdout",
     "output_type": "stream",
     "text": [
      "Dame un numero para multiplicar2\n",
      "22222\n"
     ]
    }
   ],
   "source": [
    "x = input(\"Dame un numero para multiplicar\")\n",
    "z = x * 5\n",
    "print(z)"
   ]
  },
  {
   "cell_type": "code",
   "execution_count": 5,
   "metadata": {},
   "outputs": [
    {
     "name": "stdout",
     "output_type": "stream",
     "text": [
      "Dame un numero para multiplicar2\n",
      "10\n"
     ]
    }
   ],
   "source": [
    "x = int(input(\"Dame un numero para multiplicar\"))\n",
    "z = x * 5\n",
    "print(z)"
   ]
  },
  {
   "cell_type": "code",
   "execution_count": 6,
   "metadata": {},
   "outputs": [
    {
     "name": "stdout",
     "output_type": "stream",
     "text": [
      "Dame un numero para multiplicar10\n",
      "2\n"
     ]
    }
   ],
   "source": [
    "x = int(input(\"Dame un numero para multiplicar \"))\n",
    "z = x // 5\n",
    "print(z)"
   ]
  },
  {
   "cell_type": "code",
   "execution_count": null,
   "metadata": {},
   "outputs": [],
   "source": [
    "cateto_a = float(input(\"Inserta la longitud del primer cateto: \"))\n",
    "cateto_b = float(input(\"Inserta la longitud del segundo cateto \"))\n",
    "hipo = (cateto_a**2 + cateto_b**2) ** .5\n",
    "print(\"La longitud de la hipotenusa es: \" , hipo)"
   ]
  },
  {
   "cell_type": "code",
   "execution_count": 10,
   "metadata": {},
   "outputs": [
    {
     "name": "stdout",
     "output_type": "stream",
     "text": [
      "Me puedes dar tu nombre por favor? Lourdes\n",
      "Me puedes dar tu apellido por favor? Anguiano\n",
      "Gracias.\n",
      "\n",
      "Tu nombre es Lourdes Anguiano.\n"
     ]
    }
   ],
   "source": [
    "nom = input(\"Me puedes dar tu nombre por favor? \")\n",
    "ape = input(\"Me puedes dar tu apellido por favor? \")\n",
    "print(\"Gracias.\")\n",
    "print(\"\\nTu nombre es \" + nom + \" \" + ape +\".\")"
   ]
  },
  {
   "cell_type": "code",
   "execution_count": 11,
   "metadata": {},
   "outputs": [
    {
     "name": "stdout",
     "output_type": "stream",
     "text": [
      "22222\n",
      "10\n"
     ]
    }
   ],
   "source": [
    "print (\"2\" * 5)\n",
    "print (2 * 5)"
   ]
  },
  {
   "cell_type": "code",
   "execution_count": 3,
   "metadata": {},
   "outputs": [
    {
     "name": "stdout",
     "output_type": "stream",
     "text": [
      "b es mayor que a\n",
      "b vale => 12500\n",
      "Fin del if\n"
     ]
    }
   ],
   "source": [
    "a =3000\n",
    "b =12500\n",
    "if b > a:\n",
    "    print(\"b es mayor que a\")\n",
    "    print(\"b vale =>\" ,b)\n",
    "else:\n",
    "    print (\"a es mayor que b\")\n",
    "    print(\"a vale =>\" ,a)\n",
    "print(\"Fin del if\")\n",
    "    \n",
    "        "
   ]
  },
  {
   "cell_type": "code",
   "execution_count": 23,
   "metadata": {},
   "outputs": [
    {
     "name": "stdout",
     "output_type": "stream",
     "text": [
      "b es mayor que a\n",
      "b vale => 12500\n",
      "Fin del if\n"
     ]
    }
   ],
   "source": [
    "a =3000\n",
    "b =12500\n",
    "if b > a:\n",
    "    print(\"b es mayor que a\")\n",
    "    print(\"b vale =>\" ,b)\n",
    "else:\n",
    "    print (\"a es mayor que b\")\n",
    "    print(\"a vale =>\" ,a)\n",
    "print(\"Fin del if\")"
   ]
  },
  {
   "cell_type": "code",
   "execution_count": 5,
   "metadata": {},
   "outputs": [
    {
     "name": "stdout",
     "output_type": "stream",
     "text": [
      "a es igual que b\n",
      "a y b valen => 3000\n",
      "Fin del if\n"
     ]
    }
   ],
   "source": [
    "a =3000\n",
    "b =3000\n",
    "if b > a:\n",
    "    print(\"b es mayor que a\")\n",
    "    print(\"b vale =>\" ,b)\n",
    "    \n",
    "elif a==b:\n",
    "    print(\"a es igual que b\")\n",
    "    print(\"a y b valen =>\",a)\n",
    "\n",
    "else:\n",
    "    print (\"a es mayor que b\")\n",
    "    print(\"a vale =>\" ,a)\n",
    "    \n",
    "print(\"Fin del if\")"
   ]
  },
  {
   "cell_type": "code",
   "execution_count": 7,
   "metadata": {},
   "outputs": [
    {
     "name": "stdout",
     "output_type": "stream",
     "text": [
      "y es menor que x\n"
     ]
    }
   ],
   "source": [
    "# if y if ...else en version corta o simplificada\n",
    "#--------- pendiente------\n",
    "x = 50\n",
    "y = 30\n",
    "\n",
    "print(\"y es menor que x\") if x > y else print(\"x es mayor que y\")\n"
   ]
  },
  {
   "cell_type": "code",
   "execution_count": 13,
   "metadata": {},
   "outputs": [
    {
     "name": "stdout",
     "output_type": "stream",
     "text": [
      "1\n",
      "hola\n",
      "2\n",
      "hola\n",
      "3\n",
      "hola\n",
      "4\n",
      "hola\n",
      "5\n",
      "hola\n",
      "6\n",
      "hola\n",
      "7\n",
      "hola\n",
      "8\n",
      "hola\n",
      "9\n",
      "hola\n",
      "10\n",
      "hola\n",
      "Entro al if\n",
      "fuera del while\n"
     ]
    }
   ],
   "source": [
    "i = 1\n",
    "while i <=1000:\n",
    "    print(i)\n",
    "    print(\"hola\")\n",
    "    if i == 10:\n",
    "        print(\"Entro al if\")\n",
    "        break\n",
    "    i += 1    \n",
    "print(\"fuera del while\")    "
   ]
  },
  {
   "cell_type": "code",
   "execution_count": 20,
   "metadata": {},
   "outputs": [
    {
     "name": "stdout",
     "output_type": "stream",
     "text": [
      "\n",
      "+==============================+|\n",
      "|Bienvenido a mi juego, muggle! |\n",
      "|Introduce un numero entero     |\n",
      "|y adivina que numero he        |\n",
      "|elegido para ti.               |\n",
      "|Entonces,                      |\n",
      "|cual es el numero secreto?     |\n",
      "|                               |\n",
      "+==============================+\n",
      "\n"
     ]
    }
   ],
   "source": [
    "print(\n",
    "\"\"\"\n",
    "+==============================+|\n",
    "|Bienvenido a mi juego, muggle! |\n",
    "|Introduce un numero entero     |\n",
    "|y adivina que numero he        |\n",
    "|elegido para ti.               |\n",
    "|Entonces,                      |\n",
    "|cual es el numero secreto?     |\n",
    "|                               |\n",
    "+==============================+\n",
    "\"\"\")"
   ]
  },
  {
   "cell_type": "code",
   "execution_count": 22,
   "metadata": {},
   "outputs": [
    {
     "name": "stdout",
     "output_type": "stream",
     "text": [
      "\n",
      "+==============================+|\n",
      "|1.- Opcion 1.                  |\n",
      "|2.- Opcion 2.                  |\n",
      "|3.- Opcion 3.                  |      \n",
      "+==============================+\n",
      "\n",
      "Cual es la opcion que deseas?2\n"
     ]
    },
    {
     "data": {
      "text/plain": [
       "'2'"
      ]
     },
     "execution_count": 22,
     "metadata": {},
     "output_type": "execute_result"
    }
   ],
   "source": [
    "print(\n",
    "\"\"\"\n",
    "+==============================+|\n",
    "|1.- Opcion 1.                  |\n",
    "|2.- Opcion 2.                  |\n",
    "|3.- Opcion 3.                  |      \n",
    "+==============================+\n",
    "\"\"\")\n",
    "\n",
    "input(\"Cual es la opcion que deseas?\")"
   ]
  },
  {
   "cell_type": "code",
   "execution_count": 3,
   "metadata": {},
   "outputs": [
    {
     "name": "stdout",
     "output_type": "stream",
     "text": [
      "1\n",
      "2\n",
      "3\n",
      "4\n",
      "5\n",
      "6\n",
      "7\n",
      "8\n",
      "9\n",
      "10\n"
     ]
    }
   ],
   "source": [
    "# si no se espesifica un rango inicial por default empieza en cero\n",
    "#cuando de estalece un limite o rango final siempre continnuara debidamente aunque no tenga valor incicial\n",
    "for x in range (1, 11):   \n",
    "                          \n",
    "    print(x)\n",
    "                  "
   ]
  },
  {
   "cell_type": "code",
   "execution_count": 4,
   "metadata": {},
   "outputs": [
    {
     "name": "stdout",
     "output_type": "stream",
     "text": [
      "2\n",
      "3\n",
      "4\n",
      "5\n",
      "6\n",
      "7\n",
      "8\n",
      "9\n"
     ]
    }
   ],
   "source": [
    "#indicando un rango inicial y un rango final\n",
    "for x in range (2, 10):   \n",
    "                          \n",
    "    print(x)"
   ]
  },
  {
   "cell_type": "code",
   "execution_count": 5,
   "metadata": {},
   "outputs": [
    {
     "name": "stdout",
     "output_type": "stream",
     "text": [
      "1\n",
      "3\n",
      "5\n",
      "7\n",
      "9\n"
     ]
    }
   ],
   "source": [
    "#indicando un valor de incremanto por cada repeticion o iteracion en este caso es el 2\n",
    "for x in range (1,10,2):   \n",
    "                          \n",
    "    print(x)"
   ]
  },
  {
   "cell_type": "code",
   "execution_count": 10,
   "metadata": {},
   "outputs": [
    {
     "name": "stdout",
     "output_type": "stream",
     "text": [
      "1\n",
      "5\n",
      "3\n",
      "8\n",
      "99\n"
     ]
    }
   ],
   "source": [
    "# lista de valores \n",
    "frutas = [\"naranja\", \"platano\", \"sandia\", \"melon\", \"guayaba\"]\n",
    "numeros = [1, 5, 3, 8, 99]\n",
    "for x in numeros:\n",
    "    print(x)\n",
    "    if x ==\"melon\" :\n",
    "        break"
   ]
  },
  {
   "cell_type": "code",
   "execution_count": 12,
   "metadata": {},
   "outputs": [
    {
     "name": "stdout",
     "output_type": "stream",
     "text": [
      "5 por  1 es igual a  5\n",
      "5 por  2 es igual a  10\n",
      "5 por  3 es igual a  15\n",
      "5 por  4 es igual a  20\n",
      "5 por  5 es igual a  25\n",
      "5 por  6 es igual a  30\n",
      "5 por  7 es igual a  35\n",
      "5 por  8 es igual a  40\n",
      "5 por  9 es igual a  45\n",
      "5 por  10 es igual a  50\n"
     ]
    }
   ],
   "source": [
    "tabla = 5\n",
    "for i in range (1 , 11):\n",
    "    print(\"5 por \", i,\"es igual a \", 5*i)"
   ]
  },
  {
   "cell_type": "code",
   "execution_count": 17,
   "metadata": {},
   "outputs": [
    {
     "name": "stdout",
     "output_type": "stream",
     "text": [
      "cual es la tabla de multiplicar que quieres? 3\n",
      "3 por  1 es igual a  3\n",
      "3 por  2 es igual a  6\n",
      "3 por  3 es igual a  9\n",
      "3 por  4 es igual a  12\n",
      "3 por  5 es igual a  15\n",
      "3 por  6 es igual a  18\n",
      "3 por  7 es igual a  21\n",
      "3 por  8 es igual a  24\n",
      "3 por  9 es igual a  27\n",
      "3 por  10 es igual a  30\n"
     ]
    }
   ],
   "source": [
    "tabla = int(input(\"cual es la tabla de multiplicar que quieres? \"))\n",
    "\n",
    "\n",
    "for i in range (1 , 11):\n",
    "    print(tabla, \"por \",i, \"es igual a \", tabla*i)"
   ]
  },
  {
   "cell_type": "code",
   "execution_count": null,
   "metadata": {},
   "outputs": [],
   "source": []
  }
 ],
 "metadata": {
  "kernelspec": {
   "display_name": "Python 3",
   "language": "python",
   "name": "python3"
  },
  "language_info": {
   "codemirror_mode": {
    "name": "ipython",
    "version": 3
   },
   "file_extension": ".py",
   "mimetype": "text/x-python",
   "name": "python",
   "nbconvert_exporter": "python",
   "pygments_lexer": "ipython3",
   "version": "3.8.3"
  }
 },
 "nbformat": 4,
 "nbformat_minor": 4
}
