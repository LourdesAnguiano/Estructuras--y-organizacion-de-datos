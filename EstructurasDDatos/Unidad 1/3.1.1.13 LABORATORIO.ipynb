{
 "cells": [
  {
   "cell_type": "markdown",
   "metadata": {},
   "source": [
    "# Lourdes Anguiano Banderas\n",
    "## Laboratorio\n",
    "### Estructuras y organizacion de datos"
   ]
  },
  {
   "cell_type": "code",
   "execution_count": 3,
   "metadata": {},
   "outputs": [
    {
     "name": "stdout",
     "output_type": "stream",
     "text": [
      "Introduzca un año:1581\n",
      "El año no está dentro del periodo gregoriano\n"
     ]
    }
   ],
   "source": [
    "año = int(input(\"Introduzca un año:\"))\n",
    "\n",
    "\n",
    "if año < 1582:\n",
    "    print(\"El año no está dentro del periodo gregoriano\")\n",
    "    \n",
    "elif año%4 != 0:\n",
    "    print(\"El año\", año, \"es un año común\")\n",
    "    \n",
    "elif año%100 != 0:\n",
    "    print(\"El año\", año, \"es un año bisiesto\")\n",
    "    \n",
    "elif año%400 != 0:\n",
    "    print(\"El año\", año, \"es un año común\")\n",
    "    \n",
    "else:\n",
    "    print(\"El año\", año, \"es un año bisiesto\")\n",
    "    \n",
    "    "
   ]
  },
  {
   "cell_type": "code",
   "execution_count": null,
   "metadata": {},
   "outputs": [],
   "source": []
  },
  {
   "cell_type": "code",
   "execution_count": null,
   "metadata": {},
   "outputs": [],
   "source": []
  }
 ],
 "metadata": {
  "kernelspec": {
   "display_name": "Python 3",
   "language": "python",
   "name": "python3"
  },
  "language_info": {
   "codemirror_mode": {
    "name": "ipython",
    "version": 3
   },
   "file_extension": ".py",
   "mimetype": "text/x-python",
   "name": "python",
   "nbconvert_exporter": "python",
   "pygments_lexer": "ipython3",
   "version": "3.8.3"
  }
 },
 "nbformat": 4,
 "nbformat_minor": 4
}
