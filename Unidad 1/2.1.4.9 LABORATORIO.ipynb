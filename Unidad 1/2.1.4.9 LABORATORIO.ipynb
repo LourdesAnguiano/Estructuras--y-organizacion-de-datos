{
 "cells": [
  {
   "cell_type": "markdown",
   "metadata": {},
   "source": [
    "# 2.1.4.9 Laboratorio: variables: un sencillo convertidor.\n",
    "## Lourdes Anguiano Banderas\n",
    "### Estructuras de bases de datos"
   ]
  },
  {
   "cell_type": "code",
   "execution_count": 1,
   "metadata": {},
   "outputs": [
    {
     "ename": "SyntaxError",
     "evalue": "invalid syntax (<ipython-input-1-c6643ea8361f>, line 4)",
     "output_type": "error",
     "traceback": [
      "\u001b[1;36m  File \u001b[1;32m\"<ipython-input-1-c6643ea8361f>\"\u001b[1;36m, line \u001b[1;32m4\u001b[0m\n\u001b[1;33m    millas_a_kilometros = ###\u001b[0m\n\u001b[1;37m                          ^\u001b[0m\n\u001b[1;31mSyntaxError\u001b[0m\u001b[1;31m:\u001b[0m invalid syntax\n"
     ]
    }
   ],
   "source": [
    "kilometros = 12.25\n",
    "millas = 7.38\n",
    "\n",
    "millas_a_kilometros = ###\n",
    "kilometros_a_millas = ###\n",
    "\n",
    "print(millas, \"millas son \", round(millas_a_kilometros))\n",
    "print(kilometros, \"kilometros son \", round(kilometros))"
   ]
  },
  {
   "cell_type": "code",
   "execution_count": null,
   "metadata": {},
   "outputs": [],
   "source": []
  }
 ],
 "metadata": {
  "kernelspec": {
   "display_name": "Python 3",
   "language": "python",
   "name": "python3"
  },
  "language_info": {
   "codemirror_mode": {
    "name": "ipython",
    "version": 3
   },
   "file_extension": ".py",
   "mimetype": "text/x-python",
   "name": "python",
   "nbconvert_exporter": "python",
   "pygments_lexer": "ipython3",
   "version": "3.8.3"
  }
 },
 "nbformat": 4,
 "nbformat_minor": 4
}
