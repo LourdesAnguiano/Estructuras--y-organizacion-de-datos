{
 "cells": [
  {
   "cell_type": "markdown",
   "metadata": {},
   "source": [
    "# Lourdes Anguiano Banderas\n",
    "## Laboratorio\n",
    "### Estructura y organizacion de datos"
   ]
  },
  {
   "cell_type": "code",
   "execution_count": 13,
   "metadata": {},
   "outputs": [
    {
     "name": "stdout",
     "output_type": "stream",
     "text": [
      "Inserta primer valor para relizar opercion: 2\n",
      "Inserta segundo valor para relizar operacion:  2\n",
      "resultado de la suma:  4.0\n",
      "resultado de la resta:  0.0\n",
      "resulatdo de la multiplicacion:  4.0\n",
      "resultado de la divicion:  1.0\n",
      "Eso es todo, amigos! \n"
     ]
    }
   ],
   "source": [
    "valor_a = float(input(\"Inserta primer valor para relizar opercion: \"))\n",
    "valor_b = float(input(\"Inserta segundo valor para relizar operacion:  \"))\n",
    "suma = (valor_a+0 + valor_b+0)\n",
    "resta = (valor_a-0 - valor_b-0)\n",
    "mul = (valor_a*1 * valor_b*1)\n",
    "div = (valor_a//1 // valor_b//1)\n",
    "print(\"resultado de la suma: \" ,suma)\n",
    "print(\"resultado de la resta: \" ,resta)\n",
    "print(\"resulatdo de la multiplicacion: \" ,mul)\n",
    "print(\"resultado de la divicion: \" ,div)\n",
    "print(\"Eso es todo, amigos! \")"
   ]
  },
  {
   "cell_type": "code",
   "execution_count": null,
   "metadata": {},
   "outputs": [],
   "source": []
  },
  {
   "cell_type": "code",
   "execution_count": null,
   "metadata": {},
   "outputs": [],
   "source": []
  }
 ],
 "metadata": {
  "kernelspec": {
   "display_name": "Python 3",
   "language": "python",
   "name": "python3"
  },
  "language_info": {
   "codemirror_mode": {
    "name": "ipython",
    "version": 3
   },
   "file_extension": ".py",
   "mimetype": "text/x-python",
   "name": "python",
   "nbconvert_exporter": "python",
   "pygments_lexer": "ipython3",
   "version": "3.8.3"
  }
 },
 "nbformat": 4,
 "nbformat_minor": 4
}
